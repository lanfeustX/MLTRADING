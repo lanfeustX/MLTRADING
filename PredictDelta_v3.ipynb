{
  "nbformat": 4,
  "nbformat_minor": 0,
  "metadata": {
    "kernelspec": {
      "display_name": "Python 3",
      "language": "python",
      "name": "python3"
    },
    "language_info": {
      "codemirror_mode": {
        "name": "ipython",
        "version": 3
      },
      "file_extension": ".py",
      "mimetype": "text/x-python",
      "name": "python",
      "nbconvert_exporter": "python",
      "pygments_lexer": "ipython3",
      "version": "3.7.3"
    },
    "colab": {
      "name": "PredictDelta-Copy1.ipynb",
      "provenance": [],
      "collapsed_sections": [],
      "toc_visible": true
    },
    "accelerator": "GPU"
  },
  "cells": [
    {
      "cell_type": "code",
      "metadata": {
        "id": "I15qcbps_qm0"
      },
      "source": [
        "import pandas as pd\n",
        "import matplotlib.pyplot as plt\n",
        "import numpy as np\n",
        "from sklearn.preprocessing import MinMaxScaler \n"
      ],
      "execution_count": 1,
      "outputs": []
    },
    {
      "cell_type": "code",
      "metadata": {
        "colab": {
          "base_uri": "https://localhost:8080/",
          "height": 340
        },
        "id": "PRpo34-Cb95K",
        "outputId": "e08ff5ce-02c8-43ef-9a27-6e50e6365404"
      },
      "source": [
        "import pandas_datareader as web\n",
        "import pandas as pd\n",
        "start = pd.to_datetime('2012-01-01')\n",
        "end = pd.to_datetime('today')\n",
        "\n",
        "df_web_aapl = web.DataReader('AAPL', data_source='yahoo', start=start, end=end)[:2156]\n",
        "df_web_aapl.columns = ['High_APPL', 'Low_APPL', 'Open_APPL', 'Close_APPL', 'Volume_APPL', 'Adj_Close_APPL']\n",
        "df_web_fb = web.DataReader('FB', data_source='yahoo', start=start, end=end)[:2156]\n",
        "df_web_fb.columns = ['High_FB', 'Low_FB', 'Open_FB', 'Close_FB', 'Volume_FB', 'Adj_Close_FB']\n",
        "df_web_amzn = web.DataReader('AMZN', data_source='yahoo', start=start, end=end)[:2156]\n",
        "df_web_amzn.columns = ['High_AMZN', 'Low_AMZN', 'Open_AMZN', 'Close_AMZN', 'Volume_AMZN', 'Adj_Close_AMZN']\n",
        "df_web_googl = web.DataReader('GOOGL', data_source='yahoo', start=start, end=end)[:2156]\n",
        "df_web_googl.columns = ['High_GOOGL', 'Low_GOOGL', 'Open_GOOGL', 'Close_GOOGL', 'Volume_GOOGL', 'Adj_Close_GOOGL']\n",
        "df_web_vix = web.DataReader('^VIX', data_source='yahoo', start=start, end=end)[:2156]\n",
        "df_web_vix.columns = ['High_VIX', 'Low_VIX', 'Open_VIX', 'Close_VIX', 'Volume_VIX', 'Adj_Close_VIX']\n",
        "df_web_vix = df_web_vix[['High_VIX', 'Low_VIX', 'Open_VIX', 'Close_VIX', 'Adj_Close_VIX']]\n",
        "\n",
        "df_gafa_and_vix =pd.concat([df_web_aapl,df_web_amzn,df_web_googl,df_web_vix], axis=1)  # je mets pas celui de fb psq ca marche pas\n",
        "df_gafa_and_vix.head()"
      ],
      "execution_count": 4,
      "outputs": [
        {
          "output_type": "execute_result",
          "data": {
            "text/html": [
              "<div>\n",
              "<style scoped>\n",
              "    .dataframe tbody tr th:only-of-type {\n",
              "        vertical-align: middle;\n",
              "    }\n",
              "\n",
              "    .dataframe tbody tr th {\n",
              "        vertical-align: top;\n",
              "    }\n",
              "\n",
              "    .dataframe thead th {\n",
              "        text-align: right;\n",
              "    }\n",
              "</style>\n",
              "<table border=\"1\" class=\"dataframe\">\n",
              "  <thead>\n",
              "    <tr style=\"text-align: right;\">\n",
              "      <th></th>\n",
              "      <th>High_APPL</th>\n",
              "      <th>Low_APPL</th>\n",
              "      <th>Open_APPL</th>\n",
              "      <th>Close_APPL</th>\n",
              "      <th>Volume_APPL</th>\n",
              "      <th>Adj_Close_APPL</th>\n",
              "      <th>High_AMZN</th>\n",
              "      <th>Low_AMZN</th>\n",
              "      <th>Open_AMZN</th>\n",
              "      <th>Close_AMZN</th>\n",
              "      <th>Volume_AMZN</th>\n",
              "      <th>Adj_Close_AMZN</th>\n",
              "      <th>High_GOOGL</th>\n",
              "      <th>Low_GOOGL</th>\n",
              "      <th>Open_GOOGL</th>\n",
              "      <th>Close_GOOGL</th>\n",
              "      <th>Volume_GOOGL</th>\n",
              "      <th>Adj_Close_GOOGL</th>\n",
              "      <th>High_VIX</th>\n",
              "      <th>Low_VIX</th>\n",
              "      <th>Open_VIX</th>\n",
              "      <th>Close_VIX</th>\n",
              "      <th>Adj_Close_VIX</th>\n",
              "    </tr>\n",
              "    <tr>\n",
              "      <th>Date</th>\n",
              "      <th></th>\n",
              "      <th></th>\n",
              "      <th></th>\n",
              "      <th></th>\n",
              "      <th></th>\n",
              "      <th></th>\n",
              "      <th></th>\n",
              "      <th></th>\n",
              "      <th></th>\n",
              "      <th></th>\n",
              "      <th></th>\n",
              "      <th></th>\n",
              "      <th></th>\n",
              "      <th></th>\n",
              "      <th></th>\n",
              "      <th></th>\n",
              "      <th></th>\n",
              "      <th></th>\n",
              "      <th></th>\n",
              "      <th></th>\n",
              "      <th></th>\n",
              "      <th></th>\n",
              "      <th></th>\n",
              "    </tr>\n",
              "  </thead>\n",
              "  <tbody>\n",
              "    <tr>\n",
              "      <th>2012-01-03</th>\n",
              "      <td>14.732142</td>\n",
              "      <td>14.607142</td>\n",
              "      <td>14.621428</td>\n",
              "      <td>14.686786</td>\n",
              "      <td>302220800.0</td>\n",
              "      <td>12.566676</td>\n",
              "      <td>179.479996</td>\n",
              "      <td>175.550003</td>\n",
              "      <td>175.889999</td>\n",
              "      <td>179.029999</td>\n",
              "      <td>5110800</td>\n",
              "      <td>179.029999</td>\n",
              "      <td>334.409424</td>\n",
              "      <td>326.511505</td>\n",
              "      <td>326.796783</td>\n",
              "      <td>333.038025</td>\n",
              "      <td>7345600.0</td>\n",
              "      <td>333.038025</td>\n",
              "      <td>23.100000</td>\n",
              "      <td>22.540001</td>\n",
              "      <td>22.950001</td>\n",
              "      <td>22.969999</td>\n",
              "      <td>22.969999</td>\n",
              "    </tr>\n",
              "    <tr>\n",
              "      <th>2012-01-04</th>\n",
              "      <td>14.810000</td>\n",
              "      <td>14.617143</td>\n",
              "      <td>14.642858</td>\n",
              "      <td>14.765715</td>\n",
              "      <td>260022000.0</td>\n",
              "      <td>12.634213</td>\n",
              "      <td>180.500000</td>\n",
              "      <td>176.070007</td>\n",
              "      <td>179.210007</td>\n",
              "      <td>177.509995</td>\n",
              "      <td>4205200</td>\n",
              "      <td>177.509995</td>\n",
              "      <td>335.460449</td>\n",
              "      <td>330.640656</td>\n",
              "      <td>332.847839</td>\n",
              "      <td>334.474487</td>\n",
              "      <td>5722200.0</td>\n",
              "      <td>334.474487</td>\n",
              "      <td>23.730000</td>\n",
              "      <td>22.219999</td>\n",
              "      <td>23.440001</td>\n",
              "      <td>22.219999</td>\n",
              "      <td>22.219999</td>\n",
              "    </tr>\n",
              "    <tr>\n",
              "      <th>2012-01-05</th>\n",
              "      <td>14.948215</td>\n",
              "      <td>14.738214</td>\n",
              "      <td>14.819643</td>\n",
              "      <td>14.929643</td>\n",
              "      <td>271269600.0</td>\n",
              "      <td>12.774481</td>\n",
              "      <td>178.250000</td>\n",
              "      <td>174.050003</td>\n",
              "      <td>175.940002</td>\n",
              "      <td>177.610001</td>\n",
              "      <td>3809100</td>\n",
              "      <td>177.610001</td>\n",
              "      <td>332.317322</td>\n",
              "      <td>328.443451</td>\n",
              "      <td>331.396393</td>\n",
              "      <td>329.834839</td>\n",
              "      <td>6559200.0</td>\n",
              "      <td>329.834839</td>\n",
              "      <td>23.090000</td>\n",
              "      <td>21.340000</td>\n",
              "      <td>22.750000</td>\n",
              "      <td>21.480000</td>\n",
              "      <td>21.480000</td>\n",
              "    </tr>\n",
              "    <tr>\n",
              "      <th>2012-01-06</th>\n",
              "      <td>15.098214</td>\n",
              "      <td>14.972143</td>\n",
              "      <td>14.991786</td>\n",
              "      <td>15.085714</td>\n",
              "      <td>318292800.0</td>\n",
              "      <td>12.908023</td>\n",
              "      <td>184.649994</td>\n",
              "      <td>177.500000</td>\n",
              "      <td>178.070007</td>\n",
              "      <td>182.610001</td>\n",
              "      <td>7008400</td>\n",
              "      <td>182.610001</td>\n",
              "      <td>330.330322</td>\n",
              "      <td>325.220215</td>\n",
              "      <td>329.904907</td>\n",
              "      <td>325.335327</td>\n",
              "      <td>5380400.0</td>\n",
              "      <td>325.335327</td>\n",
              "      <td>21.719999</td>\n",
              "      <td>20.580000</td>\n",
              "      <td>21.240000</td>\n",
              "      <td>20.629999</td>\n",
              "      <td>20.629999</td>\n",
              "    </tr>\n",
              "    <tr>\n",
              "      <th>2012-01-09</th>\n",
              "      <td>15.276786</td>\n",
              "      <td>15.048214</td>\n",
              "      <td>15.196428</td>\n",
              "      <td>15.061786</td>\n",
              "      <td>394024400.0</td>\n",
              "      <td>12.887549</td>\n",
              "      <td>184.369995</td>\n",
              "      <td>177.000000</td>\n",
              "      <td>182.759995</td>\n",
              "      <td>178.559998</td>\n",
              "      <td>5056900</td>\n",
              "      <td>178.559998</td>\n",
              "      <td>323.823822</td>\n",
              "      <td>310.925934</td>\n",
              "      <td>323.573578</td>\n",
              "      <td>311.541534</td>\n",
              "      <td>11633500.0</td>\n",
              "      <td>311.541534</td>\n",
              "      <td>21.780001</td>\n",
              "      <td>21.000000</td>\n",
              "      <td>21.670000</td>\n",
              "      <td>21.070000</td>\n",
              "      <td>21.070000</td>\n",
              "    </tr>\n",
              "  </tbody>\n",
              "</table>\n",
              "</div>"
            ],
            "text/plain": [
              "            High_APPL   Low_APPL  ...  Close_VIX  Adj_Close_VIX\n",
              "Date                              ...                          \n",
              "2012-01-03  14.732142  14.607142  ...  22.969999      22.969999\n",
              "2012-01-04  14.810000  14.617143  ...  22.219999      22.219999\n",
              "2012-01-05  14.948215  14.738214  ...  21.480000      21.480000\n",
              "2012-01-06  15.098214  14.972143  ...  20.629999      20.629999\n",
              "2012-01-09  15.276786  15.048214  ...  21.070000      21.070000\n",
              "\n",
              "[5 rows x 23 columns]"
            ]
          },
          "metadata": {
            "tags": []
          },
          "execution_count": 4
        }
      ]
    },
    {
      "cell_type": "code",
      "metadata": {
        "id": "9NHG8JOmcYAA"
      },
      "source": [
        "df_gafa_and_vix[\"yesterday_close\"] = data.shift(1)\n",
        "df_gafa_and_vix[\"delta\"] = df_pandas[\"close\"] - df_pandas[\"yesterday_close\"]\n",
        "index_with_nan = [0]\n",
        "df_gafa_and_vix.drop(index_with_nan, 0, inplace = True)\n",
        "\n",
        "df_gafa_and_vix.head()"
      ],
      "execution_count": null,
      "outputs": []
    },
    {
      "cell_type": "code",
      "metadata": {
        "id": "wmp-M6SC_fUI",
        "colab": {
          "base_uri": "https://localhost:8080/",
          "height": 36
        },
        "outputId": "53b920da-9207-42f7-dd8a-1eb15a6c71d7"
      },
      "source": [
        "pwd"
      ],
      "execution_count": null,
      "outputs": [
        {
          "output_type": "execute_result",
          "data": {
            "application/vnd.google.colaboratory.intrinsic+json": {
              "type": "string"
            },
            "text/plain": [
              "'/content'"
            ]
          },
          "metadata": {
            "tags": []
          },
          "execution_count": 6
        }
      ]
    },
    {
      "cell_type": "code",
      "metadata": {
        "id": "GGBWmQgM-2Hb"
      },
      "source": [
        "from google.colab import drive\n",
        "#drive.mount('/content/drive')\n",
        "\n",
        "df = pd.read_csv(\"/content/FB_daily.csv\")"
      ],
      "execution_count": null,
      "outputs": []
    },
    {
      "cell_type": "markdown",
      "metadata": {
        "id": "MX4_VPZV-Z7f"
      },
      "source": [
        "## Preparation des données"
      ]
    },
    {
      "cell_type": "markdown",
      "metadata": {
        "id": "R31M2DrVs_d8"
      },
      "source": [
        "VIX : Indice de volatiité"
      ]
    },
    {
      "cell_type": "code",
      "metadata": {
        "id": "2gYEyUrZe71t"
      },
      "source": [
        "import pandas_datareader as web\n",
        "\n",
        "start_fb = \"2012-05-18\"\n",
        "end_fb = \"2020-11-17\"\n",
        "df_vix_fb = web.DataReader('^VIX', data_source='yahoo', start=start_fb, end=end_fb)\n",
        "df_vix_fb.columns = ['high_vix', 'low_vix', 'open_vix', 'close_vix', 'volume_vix', 'adj_Close_vix']\n",
        "array_vix_close = df_vix_fb['close_vix'].to_numpy()"
      ],
      "execution_count": null,
      "outputs": []
    },
    {
      "cell_type": "code",
      "metadata": {
        "colab": {
          "base_uri": "https://localhost:8080/",
          "height": 237
        },
        "id": "en7RAmvPe-9a",
        "outputId": "d0c3aa22-6ee2-4779-b1e7-70435131a460"
      },
      "source": [
        "df_vix_fb.head()"
      ],
      "execution_count": null,
      "outputs": [
        {
          "output_type": "execute_result",
          "data": {
            "text/html": [
              "<div>\n",
              "<style scoped>\n",
              "    .dataframe tbody tr th:only-of-type {\n",
              "        vertical-align: middle;\n",
              "    }\n",
              "\n",
              "    .dataframe tbody tr th {\n",
              "        vertical-align: top;\n",
              "    }\n",
              "\n",
              "    .dataframe thead th {\n",
              "        text-align: right;\n",
              "    }\n",
              "</style>\n",
              "<table border=\"1\" class=\"dataframe\">\n",
              "  <thead>\n",
              "    <tr style=\"text-align: right;\">\n",
              "      <th></th>\n",
              "      <th>high_vix</th>\n",
              "      <th>low_vix</th>\n",
              "      <th>open_vix</th>\n",
              "      <th>close_vix</th>\n",
              "      <th>volume_vix</th>\n",
              "      <th>adj_Close_vix</th>\n",
              "    </tr>\n",
              "    <tr>\n",
              "      <th>Date</th>\n",
              "      <th></th>\n",
              "      <th></th>\n",
              "      <th></th>\n",
              "      <th></th>\n",
              "      <th></th>\n",
              "      <th></th>\n",
              "    </tr>\n",
              "  </thead>\n",
              "  <tbody>\n",
              "    <tr>\n",
              "      <th>2012-05-18</th>\n",
              "      <td>25.139999</td>\n",
              "      <td>23.07</td>\n",
              "      <td>23.270000</td>\n",
              "      <td>25.100000</td>\n",
              "      <td>0</td>\n",
              "      <td>25.100000</td>\n",
              "    </tr>\n",
              "    <tr>\n",
              "      <th>2012-05-21</th>\n",
              "      <td>24.879999</td>\n",
              "      <td>22.01</td>\n",
              "      <td>24.879999</td>\n",
              "      <td>22.010000</td>\n",
              "      <td>0</td>\n",
              "      <td>22.010000</td>\n",
              "    </tr>\n",
              "    <tr>\n",
              "      <th>2012-05-22</th>\n",
              "      <td>23.190001</td>\n",
              "      <td>19.98</td>\n",
              "      <td>21.760000</td>\n",
              "      <td>22.480000</td>\n",
              "      <td>0</td>\n",
              "      <td>22.480000</td>\n",
              "    </tr>\n",
              "    <tr>\n",
              "      <th>2012-05-23</th>\n",
              "      <td>24.620001</td>\n",
              "      <td>21.99</td>\n",
              "      <td>23.320000</td>\n",
              "      <td>22.330000</td>\n",
              "      <td>0</td>\n",
              "      <td>22.330000</td>\n",
              "    </tr>\n",
              "    <tr>\n",
              "      <th>2012-05-24</th>\n",
              "      <td>23.219999</td>\n",
              "      <td>21.48</td>\n",
              "      <td>22.000000</td>\n",
              "      <td>21.540001</td>\n",
              "      <td>0</td>\n",
              "      <td>21.540001</td>\n",
              "    </tr>\n",
              "  </tbody>\n",
              "</table>\n",
              "</div>"
            ],
            "text/plain": [
              "             high_vix  low_vix   open_vix  close_vix  volume_vix  adj_Close_vix\n",
              "Date                                                                           \n",
              "2012-05-18  25.139999    23.07  23.270000  25.100000           0      25.100000\n",
              "2012-05-21  24.879999    22.01  24.879999  22.010000           0      22.010000\n",
              "2012-05-22  23.190001    19.98  21.760000  22.480000           0      22.480000\n",
              "2012-05-23  24.620001    21.99  23.320000  22.330000           0      22.330000\n",
              "2012-05-24  23.219999    21.48  22.000000  21.540001           0      21.540001"
            ]
          },
          "metadata": {
            "tags": []
          },
          "execution_count": 9
        }
      ]
    },
    {
      "cell_type": "code",
      "metadata": {
        "colab": {
          "base_uri": "https://localhost:8080/",
          "height": 206
        },
        "id": "TauKs3IdgUEu",
        "outputId": "7f0c3582-e338-4884-a158-68b612db12f3"
      },
      "source": [
        "df.head()"
      ],
      "execution_count": null,
      "outputs": [
        {
          "output_type": "execute_result",
          "data": {
            "text/html": [
              "<div>\n",
              "<style scoped>\n",
              "    .dataframe tbody tr th:only-of-type {\n",
              "        vertical-align: middle;\n",
              "    }\n",
              "\n",
              "    .dataframe tbody tr th {\n",
              "        vertical-align: top;\n",
              "    }\n",
              "\n",
              "    .dataframe thead th {\n",
              "        text-align: right;\n",
              "    }\n",
              "</style>\n",
              "<table border=\"1\" class=\"dataframe\">\n",
              "  <thead>\n",
              "    <tr style=\"text-align: right;\">\n",
              "      <th></th>\n",
              "      <th>date</th>\n",
              "      <th>1. open</th>\n",
              "      <th>2. high</th>\n",
              "      <th>3. low</th>\n",
              "      <th>4. close</th>\n",
              "      <th>5. volume</th>\n",
              "    </tr>\n",
              "  </thead>\n",
              "  <tbody>\n",
              "    <tr>\n",
              "      <th>0</th>\n",
              "      <td>2012-05-18</td>\n",
              "      <td>42.05</td>\n",
              "      <td>45.00</td>\n",
              "      <td>38.00</td>\n",
              "      <td>38.2318</td>\n",
              "      <td>573576400.0</td>\n",
              "    </tr>\n",
              "    <tr>\n",
              "      <th>1</th>\n",
              "      <td>2012-05-21</td>\n",
              "      <td>36.53</td>\n",
              "      <td>36.66</td>\n",
              "      <td>33.00</td>\n",
              "      <td>34.0300</td>\n",
              "      <td>168192700.0</td>\n",
              "    </tr>\n",
              "    <tr>\n",
              "      <th>2</th>\n",
              "      <td>2012-05-22</td>\n",
              "      <td>32.61</td>\n",
              "      <td>33.59</td>\n",
              "      <td>30.94</td>\n",
              "      <td>31.0000</td>\n",
              "      <td>101786600.0</td>\n",
              "    </tr>\n",
              "    <tr>\n",
              "      <th>3</th>\n",
              "      <td>2012-05-23</td>\n",
              "      <td>31.37</td>\n",
              "      <td>32.50</td>\n",
              "      <td>31.36</td>\n",
              "      <td>32.0000</td>\n",
              "      <td>73600000.0</td>\n",
              "    </tr>\n",
              "    <tr>\n",
              "      <th>4</th>\n",
              "      <td>2012-05-24</td>\n",
              "      <td>32.95</td>\n",
              "      <td>33.21</td>\n",
              "      <td>31.77</td>\n",
              "      <td>33.0300</td>\n",
              "      <td>50237200.0</td>\n",
              "    </tr>\n",
              "  </tbody>\n",
              "</table>\n",
              "</div>"
            ],
            "text/plain": [
              "         date  1. open  2. high  3. low  4. close    5. volume\n",
              "0  2012-05-18    42.05    45.00   38.00   38.2318  573576400.0\n",
              "1  2012-05-21    36.53    36.66   33.00   34.0300  168192700.0\n",
              "2  2012-05-22    32.61    33.59   30.94   31.0000  101786600.0\n",
              "3  2012-05-23    31.37    32.50   31.36   32.0000   73600000.0\n",
              "4  2012-05-24    32.95    33.21   31.77   33.0300   50237200.0"
            ]
          },
          "metadata": {
            "tags": []
          },
          "execution_count": 10
        }
      ]
    },
    {
      "cell_type": "code",
      "metadata": {
        "colab": {
          "base_uri": "https://localhost:8080/",
          "height": 231
        },
        "id": "puFAppoa-Z7h",
        "outputId": "973f924c-efab-4391-aa51-8f4a46b7defc"
      },
      "source": [
        "df['vix'] = array_vix_close\n",
        "df = df.reset_index(drop=True)\n",
        "df = df[:-440]\n",
        "len(df)\n",
        "df.columns= ['date', 'open', 'high', 'low', 'close', 'volume', 'vix']\n",
        "df.head()\n"
      ],
      "execution_count": 5,
      "outputs": [
        {
          "output_type": "error",
          "ename": "NameError",
          "evalue": "ignored",
          "traceback": [
            "\u001b[0;31m---------------------------------------------------------------------------\u001b[0m",
            "\u001b[0;31mNameError\u001b[0m                                 Traceback (most recent call last)",
            "\u001b[0;32m<ipython-input-5-ef195024a5b8>\u001b[0m in \u001b[0;36m<module>\u001b[0;34m()\u001b[0m\n\u001b[0;32m----> 1\u001b[0;31m \u001b[0mdf\u001b[0m\u001b[0;34m[\u001b[0m\u001b[0;34m'vix'\u001b[0m\u001b[0;34m]\u001b[0m \u001b[0;34m=\u001b[0m \u001b[0marray_vix_close\u001b[0m\u001b[0;34m\u001b[0m\u001b[0;34m\u001b[0m\u001b[0m\n\u001b[0m\u001b[1;32m      2\u001b[0m \u001b[0mdf\u001b[0m \u001b[0;34m=\u001b[0m \u001b[0mdf\u001b[0m\u001b[0;34m.\u001b[0m\u001b[0mreset_index\u001b[0m\u001b[0;34m(\u001b[0m\u001b[0mdrop\u001b[0m\u001b[0;34m=\u001b[0m\u001b[0;32mTrue\u001b[0m\u001b[0;34m)\u001b[0m\u001b[0;34m\u001b[0m\u001b[0;34m\u001b[0m\u001b[0m\n\u001b[1;32m      3\u001b[0m \u001b[0mdf\u001b[0m \u001b[0;34m=\u001b[0m \u001b[0mdf\u001b[0m\u001b[0;34m[\u001b[0m\u001b[0;34m:\u001b[0m\u001b[0;34m-\u001b[0m\u001b[0;36m440\u001b[0m\u001b[0;34m]\u001b[0m\u001b[0;34m\u001b[0m\u001b[0;34m\u001b[0m\u001b[0m\n\u001b[1;32m      4\u001b[0m \u001b[0mlen\u001b[0m\u001b[0;34m(\u001b[0m\u001b[0mdf\u001b[0m\u001b[0;34m)\u001b[0m\u001b[0;34m\u001b[0m\u001b[0;34m\u001b[0m\u001b[0m\n\u001b[1;32m      5\u001b[0m \u001b[0mdf\u001b[0m\u001b[0;34m.\u001b[0m\u001b[0mcolumns\u001b[0m\u001b[0;34m=\u001b[0m \u001b[0;34m[\u001b[0m\u001b[0;34m'date'\u001b[0m\u001b[0;34m,\u001b[0m \u001b[0;34m'open'\u001b[0m\u001b[0;34m,\u001b[0m \u001b[0;34m'high'\u001b[0m\u001b[0;34m,\u001b[0m \u001b[0;34m'low'\u001b[0m\u001b[0;34m,\u001b[0m \u001b[0;34m'close'\u001b[0m\u001b[0;34m,\u001b[0m \u001b[0;34m'volume'\u001b[0m\u001b[0;34m,\u001b[0m \u001b[0;34m'vix'\u001b[0m\u001b[0;34m]\u001b[0m\u001b[0;34m\u001b[0m\u001b[0;34m\u001b[0m\u001b[0m\n",
            "\u001b[0;31mNameError\u001b[0m: name 'array_vix_close' is not defined"
          ]
        }
      ]
    },
    {
      "cell_type": "code",
      "metadata": {
        "colab": {
          "base_uri": "https://localhost:8080/"
        },
        "id": "JQrGs2H-rpPq",
        "outputId": "43da29ca-4214-4a54-c098-ca0083b86e7f"
      },
      "source": [
        "pip install pymyinstall"
      ],
      "execution_count": 6,
      "outputs": [
        {
          "output_type": "stream",
          "text": [
            "Collecting pymyinstall\n",
            "\u001b[?25l  Downloading https://files.pythonhosted.org/packages/11/89/d23da1fa8c04a93b702b8cc5cdd2c2efde597608dd4f9f817ec2a87d5735/pymyinstall-1.3.1776-py3-none-any.whl (2.1MB)\n",
            "\r\u001b[K     |▏                               | 10kB 24.2MB/s eta 0:00:01\r\u001b[K     |▎                               | 20kB 31.9MB/s eta 0:00:01\r\u001b[K     |▌                               | 30kB 35.5MB/s eta 0:00:01\r\u001b[K     |▋                               | 40kB 31.9MB/s eta 0:00:01\r\u001b[K     |▉                               | 51kB 34.2MB/s eta 0:00:01\r\u001b[K     |█                               | 61kB 37.2MB/s eta 0:00:01\r\u001b[K     |█                               | 71kB 25.2MB/s eta 0:00:01\r\u001b[K     |█▎                              | 81kB 23.1MB/s eta 0:00:01\r\u001b[K     |█▍                              | 92kB 24.5MB/s eta 0:00:01\r\u001b[K     |█▋                              | 102kB 22.6MB/s eta 0:00:01\r\u001b[K     |█▊                              | 112kB 22.6MB/s eta 0:00:01\r\u001b[K     |██                              | 122kB 22.6MB/s eta 0:00:01\r\u001b[K     |██                              | 133kB 22.6MB/s eta 0:00:01\r\u001b[K     |██▏                             | 143kB 22.6MB/s eta 0:00:01\r\u001b[K     |██▍                             | 153kB 22.6MB/s eta 0:00:01\r\u001b[K     |██▌                             | 163kB 22.6MB/s eta 0:00:01\r\u001b[K     |██▊                             | 174kB 22.6MB/s eta 0:00:01\r\u001b[K     |██▉                             | 184kB 22.6MB/s eta 0:00:01\r\u001b[K     |███                             | 194kB 22.6MB/s eta 0:00:01\r\u001b[K     |███▏                            | 204kB 22.6MB/s eta 0:00:01\r\u001b[K     |███▎                            | 215kB 22.6MB/s eta 0:00:01\r\u001b[K     |███▌                            | 225kB 22.6MB/s eta 0:00:01\r\u001b[K     |███▋                            | 235kB 22.6MB/s eta 0:00:01\r\u001b[K     |███▉                            | 245kB 22.6MB/s eta 0:00:01\r\u001b[K     |████                            | 256kB 22.6MB/s eta 0:00:01\r\u001b[K     |████                            | 266kB 22.6MB/s eta 0:00:01\r\u001b[K     |████▎                           | 276kB 22.6MB/s eta 0:00:01\r\u001b[K     |████▍                           | 286kB 22.6MB/s eta 0:00:01\r\u001b[K     |████▋                           | 296kB 22.6MB/s eta 0:00:01\r\u001b[K     |████▊                           | 307kB 22.6MB/s eta 0:00:01\r\u001b[K     |████▉                           | 317kB 22.6MB/s eta 0:00:01\r\u001b[K     |█████                           | 327kB 22.6MB/s eta 0:00:01\r\u001b[K     |█████▏                          | 337kB 22.6MB/s eta 0:00:01\r\u001b[K     |█████▍                          | 348kB 22.6MB/s eta 0:00:01\r\u001b[K     |█████▌                          | 358kB 22.6MB/s eta 0:00:01\r\u001b[K     |█████▊                          | 368kB 22.6MB/s eta 0:00:01\r\u001b[K     |█████▉                          | 378kB 22.6MB/s eta 0:00:01\r\u001b[K     |██████                          | 389kB 22.6MB/s eta 0:00:01\r\u001b[K     |██████▏                         | 399kB 22.6MB/s eta 0:00:01\r\u001b[K     |██████▎                         | 409kB 22.6MB/s eta 0:00:01\r\u001b[K     |██████▌                         | 419kB 22.6MB/s eta 0:00:01\r\u001b[K     |██████▋                         | 430kB 22.6MB/s eta 0:00:01\r\u001b[K     |██████▊                         | 440kB 22.6MB/s eta 0:00:01\r\u001b[K     |███████                         | 450kB 22.6MB/s eta 0:00:01\r\u001b[K     |███████                         | 460kB 22.6MB/s eta 0:00:01\r\u001b[K     |███████▎                        | 471kB 22.6MB/s eta 0:00:01\r\u001b[K     |███████▍                        | 481kB 22.6MB/s eta 0:00:01\r\u001b[K     |███████▋                        | 491kB 22.6MB/s eta 0:00:01\r\u001b[K     |███████▊                        | 501kB 22.6MB/s eta 0:00:01\r\u001b[K     |███████▉                        | 512kB 22.6MB/s eta 0:00:01\r\u001b[K     |████████                        | 522kB 22.6MB/s eta 0:00:01\r\u001b[K     |████████▏                       | 532kB 22.6MB/s eta 0:00:01\r\u001b[K     |████████▍                       | 542kB 22.6MB/s eta 0:00:01\r\u001b[K     |████████▌                       | 552kB 22.6MB/s eta 0:00:01\r\u001b[K     |████████▊                       | 563kB 22.6MB/s eta 0:00:01\r\u001b[K     |████████▉                       | 573kB 22.6MB/s eta 0:00:01\r\u001b[K     |█████████                       | 583kB 22.6MB/s eta 0:00:01\r\u001b[K     |█████████▏                      | 593kB 22.6MB/s eta 0:00:01\r\u001b[K     |█████████▎                      | 604kB 22.6MB/s eta 0:00:01\r\u001b[K     |█████████▌                      | 614kB 22.6MB/s eta 0:00:01\r\u001b[K     |█████████▋                      | 624kB 22.6MB/s eta 0:00:01\r\u001b[K     |█████████▊                      | 634kB 22.6MB/s eta 0:00:01\r\u001b[K     |██████████                      | 645kB 22.6MB/s eta 0:00:01\r\u001b[K     |██████████                      | 655kB 22.6MB/s eta 0:00:01\r\u001b[K     |██████████▎                     | 665kB 22.6MB/s eta 0:00:01\r\u001b[K     |██████████▍                     | 675kB 22.6MB/s eta 0:00:01\r\u001b[K     |██████████▋                     | 686kB 22.6MB/s eta 0:00:01\r\u001b[K     |██████████▊                     | 696kB 22.6MB/s eta 0:00:01\r\u001b[K     |██████████▉                     | 706kB 22.6MB/s eta 0:00:01\r\u001b[K     |███████████                     | 716kB 22.6MB/s eta 0:00:01\r\u001b[K     |███████████▏                    | 727kB 22.6MB/s eta 0:00:01\r\u001b[K     |███████████▍                    | 737kB 22.6MB/s eta 0:00:01\r\u001b[K     |███████████▌                    | 747kB 22.6MB/s eta 0:00:01\r\u001b[K     |███████████▋                    | 757kB 22.6MB/s eta 0:00:01\r\u001b[K     |███████████▉                    | 768kB 22.6MB/s eta 0:00:01\r\u001b[K     |████████████                    | 778kB 22.6MB/s eta 0:00:01\r\u001b[K     |████████████▏                   | 788kB 22.6MB/s eta 0:00:01\r\u001b[K     |████████████▎                   | 798kB 22.6MB/s eta 0:00:01\r\u001b[K     |████████████▌                   | 808kB 22.6MB/s eta 0:00:01\r\u001b[K     |████████████▋                   | 819kB 22.6MB/s eta 0:00:01\r\u001b[K     |████████████▊                   | 829kB 22.6MB/s eta 0:00:01\r\u001b[K     |█████████████                   | 839kB 22.6MB/s eta 0:00:01\r\u001b[K     |█████████████                   | 849kB 22.6MB/s eta 0:00:01\r\u001b[K     |█████████████▎                  | 860kB 22.6MB/s eta 0:00:01\r\u001b[K     |█████████████▍                  | 870kB 22.6MB/s eta 0:00:01\r\u001b[K     |█████████████▌                  | 880kB 22.6MB/s eta 0:00:01\r\u001b[K     |█████████████▊                  | 890kB 22.6MB/s eta 0:00:01\r\u001b[K     |█████████████▉                  | 901kB 22.6MB/s eta 0:00:01\r\u001b[K     |██████████████                  | 911kB 22.6MB/s eta 0:00:01\r\u001b[K     |██████████████▏                 | 921kB 22.6MB/s eta 0:00:01\r\u001b[K     |██████████████▍                 | 931kB 22.6MB/s eta 0:00:01\r\u001b[K     |██████████████▌                 | 942kB 22.6MB/s eta 0:00:01\r\u001b[K     |██████████████▋                 | 952kB 22.6MB/s eta 0:00:01\r\u001b[K     |██████████████▉                 | 962kB 22.6MB/s eta 0:00:01\r\u001b[K     |███████████████                 | 972kB 22.6MB/s eta 0:00:01\r\u001b[K     |███████████████▏                | 983kB 22.6MB/s eta 0:00:01\r\u001b[K     |███████████████▎                | 993kB 22.6MB/s eta 0:00:01\r\u001b[K     |███████████████▌                | 1.0MB 22.6MB/s eta 0:00:01\r\u001b[K     |███████████████▋                | 1.0MB 22.6MB/s eta 0:00:01\r\u001b[K     |███████████████▊                | 1.0MB 22.6MB/s eta 0:00:01\r\u001b[K     |████████████████                | 1.0MB 22.6MB/s eta 0:00:01\r\u001b[K     |████████████████                | 1.0MB 22.6MB/s eta 0:00:01\r\u001b[K     |████████████████▎               | 1.1MB 22.6MB/s eta 0:00:01\r\u001b[K     |████████████████▍               | 1.1MB 22.6MB/s eta 0:00:01\r\u001b[K     |████████████████▌               | 1.1MB 22.6MB/s eta 0:00:01\r\u001b[K     |████████████████▊               | 1.1MB 22.6MB/s eta 0:00:01\r\u001b[K     |████████████████▉               | 1.1MB 22.6MB/s eta 0:00:01\r\u001b[K     |█████████████████               | 1.1MB 22.6MB/s eta 0:00:01\r\u001b[K     |█████████████████▏              | 1.1MB 22.6MB/s eta 0:00:01\r\u001b[K     |█████████████████▍              | 1.1MB 22.6MB/s eta 0:00:01\r\u001b[K     |█████████████████▌              | 1.1MB 22.6MB/s eta 0:00:01\r\u001b[K     |█████████████████▋              | 1.1MB 22.6MB/s eta 0:00:01\r\u001b[K     |█████████████████▉              | 1.2MB 22.6MB/s eta 0:00:01\r\u001b[K     |██████████████████              | 1.2MB 22.6MB/s eta 0:00:01\r\u001b[K     |██████████████████▏             | 1.2MB 22.6MB/s eta 0:00:01\r\u001b[K     |██████████████████▎             | 1.2MB 22.6MB/s eta 0:00:01\r\u001b[K     |██████████████████▍             | 1.2MB 22.6MB/s eta 0:00:01\r\u001b[K     |██████████████████▋             | 1.2MB 22.6MB/s eta 0:00:01\r\u001b[K     |██████████████████▊             | 1.2MB 22.6MB/s eta 0:00:01\r\u001b[K     |███████████████████             | 1.2MB 22.6MB/s eta 0:00:01\r\u001b[K     |███████████████████             | 1.2MB 22.6MB/s eta 0:00:01\r\u001b[K     |███████████████████▎            | 1.2MB 22.6MB/s eta 0:00:01\r\u001b[K     |███████████████████▍            | 1.3MB 22.6MB/s eta 0:00:01\r\u001b[K     |███████████████████▌            | 1.3MB 22.6MB/s eta 0:00:01\r\u001b[K     |███████████████████▊            | 1.3MB 22.6MB/s eta 0:00:01\r\u001b[K     |███████████████████▉            | 1.3MB 22.6MB/s eta 0:00:01\r\u001b[K     |████████████████████            | 1.3MB 22.6MB/s eta 0:00:01\r\u001b[K     |████████████████████▏           | 1.3MB 22.6MB/s eta 0:00:01\r\u001b[K     |████████████████████▎           | 1.3MB 22.6MB/s eta 0:00:01\r\u001b[K     |████████████████████▌           | 1.3MB 22.6MB/s eta 0:00:01\r\u001b[K     |████████████████████▋           | 1.3MB 22.6MB/s eta 0:00:01\r\u001b[K     |████████████████████▉           | 1.4MB 22.6MB/s eta 0:00:01\r\u001b[K     |█████████████████████           | 1.4MB 22.6MB/s eta 0:00:01\r\u001b[K     |█████████████████████▏          | 1.4MB 22.6MB/s eta 0:00:01\r\u001b[K     |█████████████████████▎          | 1.4MB 22.6MB/s eta 0:00:01\r\u001b[K     |█████████████████████▍          | 1.4MB 22.6MB/s eta 0:00:01\r\u001b[K     |█████████████████████▋          | 1.4MB 22.6MB/s eta 0:00:01\r\u001b[K     |█████████████████████▊          | 1.4MB 22.6MB/s eta 0:00:01\r\u001b[K     |██████████████████████          | 1.4MB 22.6MB/s eta 0:00:01\r\u001b[K     |██████████████████████          | 1.4MB 22.6MB/s eta 0:00:01\r\u001b[K     |██████████████████████▏         | 1.4MB 22.6MB/s eta 0:00:01\r\u001b[K     |██████████████████████▍         | 1.5MB 22.6MB/s eta 0:00:01\r\u001b[K     |██████████████████████▌         | 1.5MB 22.6MB/s eta 0:00:01\r\u001b[K     |██████████████████████▊         | 1.5MB 22.6MB/s eta 0:00:01\r\u001b[K     |██████████████████████▉         | 1.5MB 22.6MB/s eta 0:00:01\r\u001b[K     |███████████████████████         | 1.5MB 22.6MB/s eta 0:00:01\r\u001b[K     |███████████████████████▏        | 1.5MB 22.6MB/s eta 0:00:01\r\u001b[K     |███████████████████████▎        | 1.5MB 22.6MB/s eta 0:00:01\r\u001b[K     |███████████████████████▌        | 1.5MB 22.6MB/s eta 0:00:01\r\u001b[K     |███████████████████████▋        | 1.5MB 22.6MB/s eta 0:00:01\r\u001b[K     |███████████████████████▉        | 1.5MB 22.6MB/s eta 0:00:01\r\u001b[K     |████████████████████████        | 1.6MB 22.6MB/s eta 0:00:01\r\u001b[K     |████████████████████████▏       | 1.6MB 22.6MB/s eta 0:00:01\r\u001b[K     |████████████████████████▎       | 1.6MB 22.6MB/s eta 0:00:01\r\u001b[K     |████████████████████████▍       | 1.6MB 22.6MB/s eta 0:00:01\r\u001b[K     |████████████████████████▋       | 1.6MB 22.6MB/s eta 0:00:01\r\u001b[K     |████████████████████████▊       | 1.6MB 22.6MB/s eta 0:00:01\r\u001b[K     |█████████████████████████       | 1.6MB 22.6MB/s eta 0:00:01\r\u001b[K     |█████████████████████████       | 1.6MB 22.6MB/s eta 0:00:01\r\u001b[K     |█████████████████████████▏      | 1.6MB 22.6MB/s eta 0:00:01\r\u001b[K     |█████████████████████████▍      | 1.6MB 22.6MB/s eta 0:00:01\r\u001b[K     |█████████████████████████▌      | 1.7MB 22.6MB/s eta 0:00:01\r\u001b[K     |█████████████████████████▊      | 1.7MB 22.6MB/s eta 0:00:01\r\u001b[K     |█████████████████████████▉      | 1.7MB 22.6MB/s eta 0:00:01\r\u001b[K     |██████████████████████████      | 1.7MB 22.6MB/s eta 0:00:01\r\u001b[K     |██████████████████████████▏     | 1.7MB 22.6MB/s eta 0:00:01\r\u001b[K     |██████████████████████████▎     | 1.7MB 22.6MB/s eta 0:00:01\r\u001b[K     |██████████████████████████▌     | 1.7MB 22.6MB/s eta 0:00:01\r\u001b[K     |██████████████████████████▋     | 1.7MB 22.6MB/s eta 0:00:01\r\u001b[K     |██████████████████████████▉     | 1.7MB 22.6MB/s eta 0:00:01\r\u001b[K     |███████████████████████████     | 1.8MB 22.6MB/s eta 0:00:01\r\u001b[K     |███████████████████████████     | 1.8MB 22.6MB/s eta 0:00:01\r\u001b[K     |███████████████████████████▎    | 1.8MB 22.6MB/s eta 0:00:01\r\u001b[K     |███████████████████████████▍    | 1.8MB 22.6MB/s eta 0:00:01\r\u001b[K     |███████████████████████████▋    | 1.8MB 22.6MB/s eta 0:00:01\r\u001b[K     |███████████████████████████▊    | 1.8MB 22.6MB/s eta 0:00:01\r\u001b[K     |████████████████████████████    | 1.8MB 22.6MB/s eta 0:00:01\r\u001b[K     |████████████████████████████    | 1.8MB 22.6MB/s eta 0:00:01\r\u001b[K     |████████████████████████████▏   | 1.8MB 22.6MB/s eta 0:00:01\r\u001b[K     |████████████████████████████▍   | 1.8MB 22.6MB/s eta 0:00:01\r\u001b[K     |████████████████████████████▌   | 1.9MB 22.6MB/s eta 0:00:01\r\u001b[K     |████████████████████████████▊   | 1.9MB 22.6MB/s eta 0:00:01\r\u001b[K     |████████████████████████████▉   | 1.9MB 22.6MB/s eta 0:00:01\r\u001b[K     |█████████████████████████████   | 1.9MB 22.6MB/s eta 0:00:01\r\u001b[K     |█████████████████████████████▏  | 1.9MB 22.6MB/s eta 0:00:01\r\u001b[K     |█████████████████████████████▎  | 1.9MB 22.6MB/s eta 0:00:01\r\u001b[K     |█████████████████████████████▌  | 1.9MB 22.6MB/s eta 0:00:01\r\u001b[K     |█████████████████████████████▋  | 1.9MB 22.6MB/s eta 0:00:01\r\u001b[K     |█████████████████████████████▉  | 1.9MB 22.6MB/s eta 0:00:01\r\u001b[K     |██████████████████████████████  | 1.9MB 22.6MB/s eta 0:00:01\r\u001b[K     |██████████████████████████████  | 2.0MB 22.6MB/s eta 0:00:01\r\u001b[K     |██████████████████████████████▎ | 2.0MB 22.6MB/s eta 0:00:01\r\u001b[K     |██████████████████████████████▍ | 2.0MB 22.6MB/s eta 0:00:01\r\u001b[K     |██████████████████████████████▋ | 2.0MB 22.6MB/s eta 0:00:01\r\u001b[K     |██████████████████████████████▊ | 2.0MB 22.6MB/s eta 0:00:01\r\u001b[K     |███████████████████████████████ | 2.0MB 22.6MB/s eta 0:00:01\r\u001b[K     |███████████████████████████████ | 2.0MB 22.6MB/s eta 0:00:01\r\u001b[K     |███████████████████████████████▏| 2.0MB 22.6MB/s eta 0:00:01\r\u001b[K     |███████████████████████████████▍| 2.0MB 22.6MB/s eta 0:00:01\r\u001b[K     |███████████████████████████████▌| 2.0MB 22.6MB/s eta 0:00:01\r\u001b[K     |███████████████████████████████▊| 2.1MB 22.6MB/s eta 0:00:01\r\u001b[K     |███████████████████████████████▉| 2.1MB 22.6MB/s eta 0:00:01\r\u001b[K     |████████████████████████████████| 2.1MB 22.6MB/s eta 0:00:01\r\u001b[K     |████████████████████████████████| 2.1MB 22.6MB/s \n",
            "\u001b[?25hRequirement already satisfied: pip>=10.0 in /usr/local/lib/python3.6/dist-packages (from pymyinstall) (19.3.1)\n",
            "Requirement already satisfied: setuptools in /usr/local/lib/python3.6/dist-packages (from pymyinstall) (50.3.2)\n",
            "Requirement already satisfied: requests in /usr/local/lib/python3.6/dist-packages (from pymyinstall) (2.23.0)\n",
            "Requirement already satisfied: urllib3 in /usr/local/lib/python3.6/dist-packages (from pymyinstall) (1.24.3)\n",
            "Requirement already satisfied: certifi>=2017.4.17 in /usr/local/lib/python3.6/dist-packages (from requests->pymyinstall) (2020.12.5)\n",
            "Requirement already satisfied: chardet<4,>=3.0.2 in /usr/local/lib/python3.6/dist-packages (from requests->pymyinstall) (3.0.4)\n",
            "Requirement already satisfied: idna<3,>=2.5 in /usr/local/lib/python3.6/dist-packages (from requests->pymyinstall) (2.10)\n",
            "Installing collected packages: pymyinstall\n",
            "Successfully installed pymyinstall-1.3.1776\n"
          ],
          "name": "stdout"
        }
      ]
    },
    {
      "cell_type": "code",
      "metadata": {
        "id": "_ky68LHp-Z7i"
      },
      "source": [
        "# Répare une incompatibilité entre scipy 1.0 et statsmodels 0.8. -> source : site de Xavié dupré qui est super bien fait !\n",
        "from pymyinstall.fix import fix_scipy10_for_statsmodels08\n",
        "fix_scipy10_for_statsmodels08()"
      ],
      "execution_count": 7,
      "outputs": []
    },
    {
      "cell_type": "code",
      "metadata": {
        "id": "wJzzuh34-Z7j"
      },
      "source": [
        "%matplotlib inline"
      ],
      "execution_count": 8,
      "outputs": []
    },
    {
      "cell_type": "code",
      "metadata": {
        "colab": {
          "base_uri": "https://localhost:8080/"
        },
        "id": "vab-Ta_X-Z7j",
        "outputId": "de0d5219-bd7f-46d9-acaa-c4a619e93fee"
      },
      "source": [
        "cols = ['date', 'open', 'high', 'low', 'close', 'volume','vix']\n",
        "mycols = ['close',  'high', 'low', 'open', 'volume', 'vix']\n",
        "\n",
        "df2 = df.reset_index(drop=True)[mycols]\n",
        "print(df2.shape)\n",
        "df2.head()\n",
        "data = df2['close']"
      ],
      "execution_count": null,
      "outputs": [
        {
          "output_type": "stream",
          "text": [
            "(1700, 6)\n"
          ],
          "name": "stdout"
        }
      ]
    },
    {
      "cell_type": "code",
      "metadata": {
        "colab": {
          "base_uri": "https://localhost:8080/",
          "height": 206
        },
        "id": "G9aSl_46-Z7k",
        "outputId": "ba25aee2-b16e-4e89-ecda-9c944cde62b1"
      },
      "source": [
        "df_pandas = df2.copy()\n",
        "df_pandas[\"yesterday_close\"] = data.shift(1)\n",
        "df_pandas[\"delta\"] = df_pandas[\"close\"] - df_pandas[\"yesterday_close\"]\n",
        "index_with_nan = [0]\n",
        "df_pandas.drop(index_with_nan, 0, inplace = True)\n",
        "\n",
        "df_pandas.head()"
      ],
      "execution_count": null,
      "outputs": [
        {
          "output_type": "execute_result",
          "data": {
            "text/html": [
              "<div>\n",
              "<style scoped>\n",
              "    .dataframe tbody tr th:only-of-type {\n",
              "        vertical-align: middle;\n",
              "    }\n",
              "\n",
              "    .dataframe tbody tr th {\n",
              "        vertical-align: top;\n",
              "    }\n",
              "\n",
              "    .dataframe thead th {\n",
              "        text-align: right;\n",
              "    }\n",
              "</style>\n",
              "<table border=\"1\" class=\"dataframe\">\n",
              "  <thead>\n",
              "    <tr style=\"text-align: right;\">\n",
              "      <th></th>\n",
              "      <th>close</th>\n",
              "      <th>high</th>\n",
              "      <th>low</th>\n",
              "      <th>open</th>\n",
              "      <th>volume</th>\n",
              "      <th>vix</th>\n",
              "      <th>yesterday_close</th>\n",
              "      <th>delta</th>\n",
              "    </tr>\n",
              "  </thead>\n",
              "  <tbody>\n",
              "    <tr>\n",
              "      <th>1</th>\n",
              "      <td>34.03</td>\n",
              "      <td>36.66</td>\n",
              "      <td>33.00</td>\n",
              "      <td>36.53</td>\n",
              "      <td>168192700.0</td>\n",
              "      <td>22.010000</td>\n",
              "      <td>38.2318</td>\n",
              "      <td>-4.2018</td>\n",
              "    </tr>\n",
              "    <tr>\n",
              "      <th>2</th>\n",
              "      <td>31.00</td>\n",
              "      <td>33.59</td>\n",
              "      <td>30.94</td>\n",
              "      <td>32.61</td>\n",
              "      <td>101786600.0</td>\n",
              "      <td>22.480000</td>\n",
              "      <td>34.0300</td>\n",
              "      <td>-3.0300</td>\n",
              "    </tr>\n",
              "    <tr>\n",
              "      <th>3</th>\n",
              "      <td>32.00</td>\n",
              "      <td>32.50</td>\n",
              "      <td>31.36</td>\n",
              "      <td>31.37</td>\n",
              "      <td>73600000.0</td>\n",
              "      <td>22.330000</td>\n",
              "      <td>31.0000</td>\n",
              "      <td>1.0000</td>\n",
              "    </tr>\n",
              "    <tr>\n",
              "      <th>4</th>\n",
              "      <td>33.03</td>\n",
              "      <td>33.21</td>\n",
              "      <td>31.77</td>\n",
              "      <td>32.95</td>\n",
              "      <td>50237200.0</td>\n",
              "      <td>21.540001</td>\n",
              "      <td>32.0000</td>\n",
              "      <td>1.0300</td>\n",
              "    </tr>\n",
              "    <tr>\n",
              "      <th>5</th>\n",
              "      <td>31.91</td>\n",
              "      <td>32.95</td>\n",
              "      <td>31.11</td>\n",
              "      <td>32.90</td>\n",
              "      <td>37149800.0</td>\n",
              "      <td>21.760000</td>\n",
              "      <td>33.0300</td>\n",
              "      <td>-1.1200</td>\n",
              "    </tr>\n",
              "  </tbody>\n",
              "</table>\n",
              "</div>"
            ],
            "text/plain": [
              "   close   high    low   open       volume        vix  yesterday_close   delta\n",
              "1  34.03  36.66  33.00  36.53  168192700.0  22.010000          38.2318 -4.2018\n",
              "2  31.00  33.59  30.94  32.61  101786600.0  22.480000          34.0300 -3.0300\n",
              "3  32.00  32.50  31.36  31.37   73600000.0  22.330000          31.0000  1.0000\n",
              "4  33.03  33.21  31.77  32.95   50237200.0  21.540001          32.0000  1.0300\n",
              "5  31.91  32.95  31.11  32.90   37149800.0  21.760000          33.0300 -1.1200"
            ]
          },
          "metadata": {
            "tags": []
          },
          "execution_count": 16
        }
      ]
    },
    {
      "cell_type": "code",
      "metadata": {
        "colab": {
          "base_uri": "https://localhost:8080/"
        },
        "id": "eOJ6BjunpG_6",
        "outputId": "d9ba5e2c-07a6-42fc-8b9c-5a6e73ebc92d"
      },
      "source": [
        "pip install statsmodels"
      ],
      "execution_count": null,
      "outputs": [
        {
          "output_type": "stream",
          "text": [
            "Requirement already satisfied: statsmodels in /usr/local/lib/python3.6/dist-packages (0.10.2)\n",
            "Requirement already satisfied: numpy>=1.11 in /usr/local/lib/python3.6/dist-packages (from statsmodels) (1.18.5)\n",
            "Requirement already satisfied: patsy>=0.4.0 in /usr/local/lib/python3.6/dist-packages (from statsmodels) (0.5.1)\n",
            "Requirement already satisfied: scipy>=0.18 in /usr/local/lib/python3.6/dist-packages (from statsmodels) (1.4.1)\n",
            "Requirement already satisfied: pandas>=0.19 in /usr/local/lib/python3.6/dist-packages (from statsmodels) (1.1.5)\n",
            "Requirement already satisfied: six in /usr/local/lib/python3.6/dist-packages (from patsy>=0.4.0->statsmodels) (1.15.0)\n",
            "Requirement already satisfied: pytz>=2017.2 in /usr/local/lib/python3.6/dist-packages (from pandas>=0.19->statsmodels) (2018.9)\n",
            "Requirement already satisfied: python-dateutil>=2.7.3 in /usr/local/lib/python3.6/dist-packages (from pandas>=0.19->statsmodels) (2.8.1)\n"
          ],
          "name": "stdout"
        }
      ]
    },
    {
      "cell_type": "markdown",
      "metadata": {
        "id": "kycMQbMTe7yb"
      },
      "source": [
        "Reg du prix Pj sur P(j-1)"
      ]
    },
    {
      "cell_type": "code",
      "metadata": {
        "id": "fkz6gzNootfR",
        "colab": {
          "base_uri": "https://localhost:8080/"
        },
        "outputId": "02f8a968-8bae-4802-fdab-8f8725af3fec"
      },
      "source": [
        "import statsmodels.api as sm\n",
        "#from statsmodels.api import regression\n",
        "df_reg = df_pandas[['close', 'yesterday_close']]\n",
        "model = sm.regression.linear_model.OLS.from_formula('close ~ yesterday_close', data = df_reg)"
      ],
      "execution_count": null,
      "outputs": [
        {
          "output_type": "stream",
          "text": [
            "/usr/local/lib/python3.6/dist-packages/statsmodels/tools/_testing.py:19: FutureWarning: pandas.util.testing is deprecated. Use the functions in the public API at pandas.testing instead.\n",
            "  import pandas.util.testing as tm\n"
          ],
          "name": "stderr"
        }
      ]
    },
    {
      "cell_type": "code",
      "metadata": {
        "id": "gc8jIrvjpkEH"
      },
      "source": [
        "result = model.fit()\n"
      ],
      "execution_count": null,
      "outputs": []
    },
    {
      "cell_type": "code",
      "metadata": {
        "colab": {
          "base_uri": "https://localhost:8080/"
        },
        "id": "gh2uwOHTpwuh",
        "outputId": "8b2acb6f-76e2-4adf-9295-10375cc9fa0b"
      },
      "source": [
        "print(result.params )\n",
        "print(result.pvalues)"
      ],
      "execution_count": null,
      "outputs": [
        {
          "output_type": "stream",
          "text": [
            "Intercept          0.160360\n",
            "yesterday_close    0.999111\n",
            "dtype: float64\n",
            "Intercept          0.161021\n",
            "yesterday_close    0.000000\n",
            "dtype: float64\n"
          ],
          "name": "stdout"
        }
      ]
    },
    {
      "cell_type": "code",
      "metadata": {
        "colab": {
          "base_uri": "https://localhost:8080/",
          "height": 283
        },
        "id": "WKZl_JS22mgt",
        "outputId": "7afeaa29-ccc1-4c34-f5c6-5655a2330a52"
      },
      "source": [
        "df_pandas.delta.plot()"
      ],
      "execution_count": null,
      "outputs": [
        {
          "output_type": "execute_result",
          "data": {
            "text/plain": [
              "<matplotlib.axes._subplots.AxesSubplot at 0x7f0c41470940>"
            ]
          },
          "metadata": {
            "tags": []
          },
          "execution_count": 21
        },
        {
          "output_type": "display_data",
          "data": {
            "image/png": "[encoded data removed]",
            "text/plain": [
              "<Figure size 432x288 with 1 Axes>"
            ]
          },
          "metadata": {
            "tags": [],
            "needs_background": "light"
          }
        }
      ]
    },
    {
      "cell_type": "markdown",
      "metadata": {
        "id": "vnueaUlrfAkj"
      },
      "source": [
        "suppression des outliers\n",
        "\n",
        "> Bloc en retrait\n",
        "\n"
      ]
    },
    {
      "cell_type": "code",
      "metadata": {
        "id": "DDw7_0zV-Z7l"
      },
      "source": [
        "index_outliers = []\n",
        "index_outliers.append(df_pandas['delta'].idxmax())\n",
        "index_outliers.append(df_pandas['delta'].idxmin())\n",
        "index_outliers.append(923)\n",
        "index_outliers.append(1493)"
      ],
      "execution_count": null,
      "outputs": []
    },
    {
      "cell_type": "code",
      "metadata": {
        "id": "9U6Hdazl-Z7l"
      },
      "source": [
        "df_pandas.drop(index_outliers,0,inplace= True)\n"
      ],
      "execution_count": null,
      "outputs": []
    },
    {
      "cell_type": "code",
      "metadata": {
        "colab": {
          "base_uri": "https://localhost:8080/"
        },
        "id": "PISQGwb7-Z7l",
        "outputId": "67cbfa06-3b9e-41be-f873-590add067efe"
      },
      "source": [
        "#df_output = (df_pandas['delta']-df_pandas['delta'].mean())/df_pandas['delta'].std()\n",
        "df_output = (df_pandas['delta'])\n",
        "array_output = df_output.to_numpy()\n",
        "array_output.shape"
      ],
      "execution_count": null,
      "outputs": [
        {
          "output_type": "execute_result",
          "data": {
            "text/plain": [
              "(1695,)"
            ]
          },
          "metadata": {
            "tags": []
          },
          "execution_count": 24
        }
      ]
    },
    {
      "cell_type": "markdown",
      "metadata": {
        "id": "i5aQZpfP-Z7m"
      },
      "source": [
        "## Stat desc"
      ]
    },
    {
      "cell_type": "code",
      "metadata": {
        "colab": {
          "base_uri": "https://localhost:8080/",
          "height": 592
        },
        "id": "R6M4RqpF-Z7m",
        "outputId": "798a82ef-acd5-4df6-d08e-28ff9e5d1740"
      },
      "source": [
        "plt.gcf().set_size_inches(15, 10)\n",
        "plt.plot(array_output)\n",
        "plt.show()"
      ],
      "execution_count": null,
      "outputs": [
        {
          "output_type": "display_data",
          "data": {
            "image/png": "[encoded data removed]",
            "text/plain": [
              "<Figure size 1080x720 with 1 Axes>"
            ]
          },
          "metadata": {
            "tags": [],
            "needs_background": "light"
          }
        }
      ]
    },
    {
      "cell_type": "code",
      "metadata": {
        "colab": {
          "base_uri": "https://localhost:8080/",
          "height": 774
        },
        "id": "4cIByMYe9Hk1",
        "outputId": "2011b824-d2a0-485c-ce09-8af2c873cb1c"
      },
      "source": [
        "plt.hist(array_output, bins=100)"
      ],
      "execution_count": null,
      "outputs": [
        {
          "output_type": "execute_result",
          "data": {
            "text/plain": [
              "(array([  1.,   0.,   0.,   0.,   0.,   0.,   0.,   1.,   0.,   0.,   0.,\n",
              "          0.,   1.,   0.,   1.,   3.,   1.,   2.,   0.,   2.,   0.,   0.,\n",
              "          2.,   1.,   0.,   2.,   1.,   4.,   4.,   9.,   4.,  10.,   7.,\n",
              "          7.,  23.,  14.,  15.,  20.,  18.,  27.,  45.,  68.,  93., 103.,\n",
              "        145., 157., 163., 154.,  99.,  98.,  70.,  74.,  49.,  49.,  26.,\n",
              "         30.,  22.,  11.,   4.,  11.,   4.,   9.,   7.,   6.,   2.,   1.,\n",
              "          1.,   1.,   3.,   1.,   1.,   0.,   2.,   1.,   2.,   1.,   0.,\n",
              "          0.,   0.,   0.,   0.,   0.,   0.,   1.,   0.,   0.,   0.,   0.,\n",
              "          0.,   0.,   0.,   0.,   0.,   0.,   0.,   0.,   0.,   0.,   0.,\n",
              "          1.]),\n",
              " array([-12.53  , -12.2581, -11.9862, -11.7143, -11.4424, -11.1705,\n",
              "        -10.8986, -10.6267, -10.3548, -10.0829,  -9.811 ,  -9.5391,\n",
              "         -9.2672,  -8.9953,  -8.7234,  -8.4515,  -8.1796,  -7.9077,\n",
              "         -7.6358,  -7.3639,  -7.092 ,  -6.8201,  -6.5482,  -6.2763,\n",
              "         -6.0044,  -5.7325,  -5.4606,  -5.1887,  -4.9168,  -4.6449,\n",
              "         -4.373 ,  -4.1011,  -3.8292,  -3.5573,  -3.2854,  -3.0135,\n",
              "         -2.7416,  -2.4697,  -2.1978,  -1.9259,  -1.654 ,  -1.3821,\n",
              "         -1.1102,  -0.8383,  -0.5664,  -0.2945,  -0.0226,   0.2493,\n",
              "          0.5212,   0.7931,   1.065 ,   1.3369,   1.6088,   1.8807,\n",
              "          2.1526,   2.4245,   2.6964,   2.9683,   3.2402,   3.5121,\n",
              "          3.784 ,   4.0559,   4.3278,   4.5997,   4.8716,   5.1435,\n",
              "          5.4154,   5.6873,   5.9592,   6.2311,   6.503 ,   6.7749,\n",
              "          7.0468,   7.3187,   7.5906,   7.8625,   8.1344,   8.4063,\n",
              "          8.6782,   8.9501,   9.222 ,   9.4939,   9.7658,  10.0377,\n",
              "         10.3096,  10.5815,  10.8534,  11.1253,  11.3972,  11.6691,\n",
              "         11.941 ,  12.2129,  12.4848,  12.7567,  13.0286,  13.3005,\n",
              "         13.5724,  13.8443,  14.1162,  14.3881,  14.66  ]),\n",
              " <a list of 100 Patch objects>)"
            ]
          },
          "metadata": {
            "tags": []
          },
          "execution_count": 26
        },
        {
          "output_type": "display_data",
          "data": {
            "image/png": "[encoded data removed]",
            "text/plain": [
              "<Figure size 432x288 with 1 Axes>"
            ]
          },
          "metadata": {
            "tags": [],
            "needs_background": "light"
          }
        }
      ]
    },
    {
      "cell_type": "code",
      "metadata": {
        "scrolled": true,
        "colab": {
          "base_uri": "https://localhost:8080/",
          "height": 283
        },
        "id": "mPVUSHI_-Z7n",
        "outputId": "6f5d28e6-17f0-44c9-d0b1-8dc22e95a962"
      },
      "source": [
        "df_pandas.boxplot(column = 'delta')"
      ],
      "execution_count": null,
      "outputs": [
        {
          "output_type": "execute_result",
          "data": {
            "text/plain": [
              "<matplotlib.axes._subplots.AxesSubplot at 0x7f0c3f62f3c8>"
            ]
          },
          "metadata": {
            "tags": []
          },
          "execution_count": 27
        },
        {
          "output_type": "display_data",
          "data": {
            "image/png": "[encoded data removed]",
            "text/plain": [
              "<Figure size 432x288 with 1 Axes>"
            ]
          },
          "metadata": {
            "tags": [],
            "needs_background": "light"
          }
        }
      ]
    },
    {
      "cell_type": "code",
      "metadata": {
        "colab": {
          "base_uri": "https://localhost:8080/",
          "height": 606
        },
        "id": "z0QCRvjA-Z7o",
        "outputId": "9cd83e2e-87fa-4275-fb54-38e049e04006"
      },
      "source": [
        "import numpy as np\n",
        "import statsmodels.api as sm\n",
        "import pylab\n",
        "\n",
        "\n",
        "sm.qqplot( (df_pandas.delta- df_pandas.delta.mean())/df_pandas.delta.std(), line='45')\n",
        "plt.gcf().set_size_inches(15, 10)\n",
        "pylab.show()"
      ],
      "execution_count": null,
      "outputs": [
        {
          "output_type": "display_data",
          "data": {
            "image/png": "[encoded data removed]",
            "text/plain": [
              "<Figure size 1080x720 with 1 Axes>"
            ]
          },
          "metadata": {
            "tags": [],
            "needs_background": "light"
          }
        }
      ]
    },
    {
      "cell_type": "code",
      "metadata": {
        "colab": {
          "base_uri": "https://localhost:8080/"
        },
        "id": "2vY0ciTH-Z7o",
        "outputId": "e0b47e0e-1995-40c0-f8ff-973c1bdcabb8"
      },
      "source": [
        "((df_output-df_output)/df_output.std()).kurtosis()"
      ],
      "execution_count": null,
      "outputs": [
        {
          "output_type": "execute_result",
          "data": {
            "text/plain": [
              "0"
            ]
          },
          "metadata": {
            "tags": []
          },
          "execution_count": 29
        }
      ]
    },
    {
      "cell_type": "code",
      "metadata": {
        "id": "6lpVdHHc-Z7p"
      },
      "source": [
        "scaler = MinMaxScaler(feature_range = (0,1))\n",
        "#df_pandas_train = df_pandas[[\"close\",\"high\", \"low\", \"open\", \"volume\",'vix']] #on n'utilise pas la colonne \"yesterday_close\"\n",
        "df_pandas_train = df_pandas[[\"close\",'vix']]\n",
        "array_pandas_standardise = scaler.fit_transform(df_pandas_train)\n",
        "#array_pandas_standardise = df_pandas_train.to_numpy()\n",
        "\n",
        "#scaler_output = MinMaxScaler(feature_range = (0,1))\n",
        "array_output_min_max = (array_output-array_output.min())/(array_output.max()-array_output.min())"
      ],
      "execution_count": null,
      "outputs": []
    },
    {
      "cell_type": "code",
      "metadata": {
        "colab": {
          "base_uri": "https://localhost:8080/"
        },
        "id": "bPtecaa8ioSy",
        "outputId": "89324bc9-edee-4bd3-8628-b87912fa6e3a"
      },
      "source": [
        "array_output_min_max.shape"
      ],
      "execution_count": null,
      "outputs": [
        {
          "output_type": "execute_result",
          "data": {
            "text/plain": [
              "(1695,)"
            ]
          },
          "metadata": {
            "tags": []
          },
          "execution_count": 31
        }
      ]
    },
    {
      "cell_type": "code",
      "metadata": {
        "id": "yQrXHhXV_LQx"
      },
      "source": [
        "array_output = array_output_min_max"
      ],
      "execution_count": null,
      "outputs": []
    },
    {
      "cell_type": "code",
      "metadata": {
        "id": "-4FQkzRy-Z7q"
      },
      "source": [
        "def split_data(array_train, array_output, prop_train_size, nb_columns):\n",
        "    \"\"\"\n",
        "    \n",
        "    \"\"\"\n",
        "    \n",
        "    n = len(array_output)\n",
        "    training_size = int(n*prop_train_size)\n",
        "    test_size = n- training_size\n",
        "    \n",
        "    array_split_train = array_train[:training_size].reshape(-1,nb_columns)\n",
        "    array_split_test = array_train[training_size:].reshape(-1,nb_columns)\n",
        "    \n",
        "    array_split_train_output = array_output[:training_size].reshape(-1,1)\n",
        "    array_split_test_output = array_output[training_size:].reshape(-1,1)\n",
        "\n",
        "    \n",
        "    return array_split_train, array_split_test, array_split_train_output, array_split_test_output\n",
        "\n",
        "def create_windows_data_XandY(array_split_train, array_split_train_output, time_step ):\n",
        "    dataX = []\n",
        "    dataY = []\n",
        "    \n",
        "    for i in range(len(array_split_train_output)- time_step - 1) : \n",
        "        set_value = array_split_train[i : (i+time_step) ,:]\n",
        "        dataX.append(set_value)\n",
        "        dataY.append(array_split_train_output[i + time_step])\n",
        "        \n",
        "    return np.array(dataX), np.array(dataY)"
      ],
      "execution_count": null,
      "outputs": []
    },
    {
      "cell_type": "markdown",
      "metadata": {
        "id": "KXcr3Nyp-Z7q"
      },
      "source": [
        "## Définition du modèle"
      ]
    },
    {
      "cell_type": "markdown",
      "metadata": {
        "id": "6UO9X9lf-Z7q"
      },
      "source": [
        "### Variables globales"
      ]
    },
    {
      "cell_type": "code",
      "metadata": {
        "id": "urmy8n_o-Z7q"
      },
      "source": [
        "prop_train_size = 0.65\n",
        "nb_columns = 2\n",
        "time_step = 30\n",
        "n = len(array_output)\n",
        "train_data, test_data ,train_data_y, test_data_y = split_data(array_pandas_standardise, array_output, prop_train_size, nb_columns)"
      ],
      "execution_count": null,
      "outputs": []
    },
    {
      "cell_type": "code",
      "metadata": {
        "colab": {
          "base_uri": "https://localhost:8080/"
        },
        "id": "KHtpwHqk-Z7q",
        "outputId": "0ba2d611-3409-4de5-ddff-03362ffaba66"
      },
      "source": [
        "print(train_data.shape)\n",
        "print(test_data.shape)\n",
        "print(type(train_data))\n",
        "print(type(test_data))"
      ],
      "execution_count": null,
      "outputs": [
        {
          "output_type": "stream",
          "text": [
            "(1101, 2)\n",
            "(594, 2)\n",
            "<class 'numpy.ndarray'>\n",
            "<class 'numpy.ndarray'>\n"
          ],
          "name": "stdout"
        }
      ]
    },
    {
      "cell_type": "code",
      "metadata": {
        "colab": {
          "base_uri": "https://localhost:8080/"
        },
        "id": "p-8sC8RG-Z7r",
        "outputId": "902d9f6c-aa17-400a-97c5-5ff555d4f59e"
      },
      "source": [
        "print(train_data_y.shape)\n",
        "print(test_data_y.shape)\n",
        "print(type(train_data_y))\n",
        "print(type(test_data_y))"
      ],
      "execution_count": null,
      "outputs": [
        {
          "output_type": "stream",
          "text": [
            "(1101, 1)\n",
            "(594, 1)\n",
            "<class 'numpy.ndarray'>\n",
            "<class 'numpy.ndarray'>\n"
          ],
          "name": "stdout"
        }
      ]
    },
    {
      "cell_type": "code",
      "metadata": {
        "id": "inKip8Nb-Z7s"
      },
      "source": [
        "X_train, Y_train = create_windows_data_XandY(train_data, train_data_y, time_step)\n",
        "X_test, Y_test = create_windows_data_XandY(test_data, test_data_y, time_step)"
      ],
      "execution_count": null,
      "outputs": []
    },
    {
      "cell_type": "code",
      "metadata": {
        "colab": {
          "base_uri": "https://localhost:8080/"
        },
        "id": "MGQkwXD18XpY",
        "outputId": "ada72b00-4878-42f2-d541-ead8057c9bf0"
      },
      "source": [
        "print(X_train.shape) # (1,1050, 50+2 )  // (2,850,50+5)\n",
        "#X_train.reshape(1050,100)"
      ],
      "execution_count": null,
      "outputs": [
        {
          "output_type": "stream",
          "text": [
            "(1070, 30, 2)\n"
          ],
          "name": "stdout"
        }
      ]
    },
    {
      "cell_type": "code",
      "metadata": {
        "id": "PfEGfNft-Z7s"
      },
      "source": [
        "from tensorflow.keras.models import Sequential\n",
        "from tensorflow.keras.layers import Dense, LSTM, Dropout, Input\n",
        "import keras\n",
        "from keras.layers import Conv2D, MaxPooling2D\n"
      ],
      "execution_count": null,
      "outputs": []
    },
    {
      "cell_type": "code",
      "metadata": {
        "id": "j87BC5_w-Z7s"
      },
      "source": [
        "# model = Sequential()\n",
        "# #model.add(Input(shape = (50,6) ))\n",
        "# model.add(LSTM(150, return_sequences = False, input_shape = (time_step, nb_columns))) \n",
        "# #model.add(LSTM(50, return_sequences = False, activation=\"linear\"))\n",
        "# #model.add(Dense(25))\n",
        "\n",
        "# model.add(Dense(1))\n",
        "# opt = keras.optimizers.Adam(learning_rate=0.05)\n",
        "# model.compile(loss =  'mean_squared_error', optimizer = opt)\n",
        "\n",
        "#model.summary()\n",
        "\n",
        "\n",
        "model = Sequential()\n",
        "model.add(LSTM(50, return_sequences = True, input_shape= (time_step, nb_columns))) #les input shape doivent etre les memes que les deux valeurs de fin de la fonction reshape  (X_train.shape[1], 1) definis dans la cellule un peu avant !\n",
        "model.add(Dropout(0.3))\n",
        "\n",
        "#model.add(LSTM(1)) \n",
        "model.add(Dense(1))\n",
        "\n",
        "model.compile(loss =  'mean_squared_error', optimizer = 'adam', metrics = [\"mae\"])\n",
        "\n"
      ],
      "execution_count": null,
      "outputs": []
    },
    {
      "cell_type": "code",
      "metadata": {
        "colab": {
          "base_uri": "https://localhost:8080/"
        },
        "id": "q4D3zKxLAoAX",
        "outputId": "f25e2ca1-27f8-4a05-fa41-67f0cbb16f48"
      },
      "source": [
        "model.summary()"
      ],
      "execution_count": null,
      "outputs": [
        {
          "output_type": "stream",
          "text": [
            "Model: \"sequential\"\n",
            "_________________________________________________________________\n",
            "Layer (type)                 Output Shape              Param #   \n",
            "=================================================================\n",
            "lstm (LSTM)                  (None, 30, 50)            10600     \n",
            "_________________________________________________________________\n",
            "dropout (Dropout)            (None, 30, 50)            0         \n",
            "_________________________________________________________________\n",
            "dense (Dense)                (None, 30, 1)             51        \n",
            "=================================================================\n",
            "Total params: 10,651\n",
            "Trainable params: 10,651\n",
            "Non-trainable params: 0\n",
            "_________________________________________________________________\n"
          ],
          "name": "stdout"
        }
      ]
    },
    {
      "cell_type": "code",
      "metadata": {
        "scrolled": false,
        "colab": {
          "base_uri": "https://localhost:8080/"
        },
        "id": "tQuzDwPi-Z7t",
        "outputId": "38a46573-ab3e-421a-f56f-b5a38aab2eae"
      },
      "source": [
        "model.fit(X_train, Y_train, validation_data = (X_test, Y_test),  verbose=1)\n",
        "history = model.fit(X_train, Y_train, validation_data=(X_test, Y_test),  epochs = 50, batch_size=8)"
      ],
      "execution_count": null,
      "outputs": [
        {
          "output_type": "stream",
          "text": [
            "34/34 [==============================] - 1s 19ms/step - loss: 0.0788 - mae: 0.2383 - val_loss: 0.0388 - val_mae: 0.1616\n",
            "Epoch 1/50\n",
            "134/134 [==============================] - 1s 7ms/step - loss: 0.0152 - mae: 0.0912 - val_loss: 0.0152 - val_mae: 0.0955\n",
            "Epoch 2/50\n",
            "134/134 [==============================] - 1s 6ms/step - loss: 0.0085 - mae: 0.0666 - val_loss: 0.0115 - val_mae: 0.0773\n",
            "Epoch 3/50\n",
            "134/134 [==============================] - 1s 7ms/step - loss: 0.0065 - mae: 0.0589 - val_loss: 0.0106 - val_mae: 0.0741\n",
            "Epoch 4/50\n",
            "134/134 [==============================] - 1s 7ms/step - loss: 0.0054 - mae: 0.0535 - val_loss: 0.0101 - val_mae: 0.0722\n",
            "Epoch 5/50\n",
            "134/134 [==============================] - 1s 6ms/step - loss: 0.0047 - mae: 0.0506 - val_loss: 0.0099 - val_mae: 0.0715\n",
            "Epoch 6/50\n",
            "134/134 [==============================] - 1s 7ms/step - loss: 0.0044 - mae: 0.0489 - val_loss: 0.0099 - val_mae: 0.0719\n",
            "Epoch 7/50\n",
            "134/134 [==============================] - 1s 6ms/step - loss: 0.0041 - mae: 0.0474 - val_loss: 0.0094 - val_mae: 0.0697\n",
            "Epoch 8/50\n",
            "134/134 [==============================] - 1s 6ms/step - loss: 0.0039 - mae: 0.0457 - val_loss: 0.0093 - val_mae: 0.0688\n",
            "Epoch 9/50\n",
            "134/134 [==============================] - 1s 6ms/step - loss: 0.0037 - mae: 0.0446 - val_loss: 0.0092 - val_mae: 0.0681\n",
            "Epoch 10/50\n",
            "134/134 [==============================] - 1s 7ms/step - loss: 0.0036 - mae: 0.0439 - val_loss: 0.0093 - val_mae: 0.0687\n",
            "Epoch 11/50\n",
            "134/134 [==============================] - 1s 7ms/step - loss: 0.0035 - mae: 0.0428 - val_loss: 0.0095 - val_mae: 0.0698\n",
            "Epoch 12/50\n",
            "134/134 [==============================] - 1s 7ms/step - loss: 0.0035 - mae: 0.0426 - val_loss: 0.0091 - val_mae: 0.0675\n",
            "Epoch 13/50\n",
            "134/134 [==============================] - 1s 7ms/step - loss: 0.0033 - mae: 0.0416 - val_loss: 0.0091 - val_mae: 0.0674\n",
            "Epoch 14/50\n",
            "134/134 [==============================] - 1s 7ms/step - loss: 0.0034 - mae: 0.0418 - val_loss: 0.0091 - val_mae: 0.0677\n",
            "Epoch 15/50\n",
            "134/134 [==============================] - 1s 7ms/step - loss: 0.0033 - mae: 0.0413 - val_loss: 0.0092 - val_mae: 0.0683\n",
            "Epoch 16/50\n",
            "134/134 [==============================] - 1s 7ms/step - loss: 0.0032 - mae: 0.0402 - val_loss: 0.0090 - val_mae: 0.0672\n",
            "Epoch 17/50\n",
            "134/134 [==============================] - 1s 7ms/step - loss: 0.0032 - mae: 0.0399 - val_loss: 0.0090 - val_mae: 0.0675\n",
            "Epoch 18/50\n",
            "134/134 [==============================] - 1s 7ms/step - loss: 0.0032 - mae: 0.0401 - val_loss: 0.0090 - val_mae: 0.0672\n",
            "Epoch 19/50\n",
            "134/134 [==============================] - 1s 7ms/step - loss: 0.0031 - mae: 0.0396 - val_loss: 0.0090 - val_mae: 0.0672\n",
            "Epoch 20/50\n",
            "134/134 [==============================] - 1s 7ms/step - loss: 0.0031 - mae: 0.0393 - val_loss: 0.0090 - val_mae: 0.0671\n",
            "Epoch 21/50\n",
            "134/134 [==============================] - 1s 7ms/step - loss: 0.0031 - mae: 0.0391 - val_loss: 0.0090 - val_mae: 0.0671\n",
            "Epoch 22/50\n",
            "134/134 [==============================] - 1s 7ms/step - loss: 0.0030 - mae: 0.0387 - val_loss: 0.0090 - val_mae: 0.0676\n",
            "Epoch 23/50\n",
            "134/134 [==============================] - 1s 6ms/step - loss: 0.0030 - mae: 0.0386 - val_loss: 0.0091 - val_mae: 0.0679\n",
            "Epoch 24/50\n",
            "134/134 [==============================] - 1s 7ms/step - loss: 0.0030 - mae: 0.0385 - val_loss: 0.0093 - val_mae: 0.0697\n",
            "Epoch 25/50\n",
            "134/134 [==============================] - 1s 7ms/step - loss: 0.0029 - mae: 0.0381 - val_loss: 0.0090 - val_mae: 0.0673\n",
            "Epoch 26/50\n",
            "134/134 [==============================] - 1s 7ms/step - loss: 0.0030 - mae: 0.0379 - val_loss: 0.0090 - val_mae: 0.0672\n",
            "Epoch 27/50\n",
            "134/134 [==============================] - 1s 6ms/step - loss: 0.0029 - mae: 0.0376 - val_loss: 0.0091 - val_mae: 0.0681\n",
            "Epoch 28/50\n",
            "134/134 [==============================] - 1s 7ms/step - loss: 0.0030 - mae: 0.0383 - val_loss: 0.0090 - val_mae: 0.0670\n",
            "Epoch 29/50\n",
            "134/134 [==============================] - 1s 7ms/step - loss: 0.0029 - mae: 0.0377 - val_loss: 0.0091 - val_mae: 0.0676\n",
            "Epoch 30/50\n",
            "134/134 [==============================] - 1s 6ms/step - loss: 0.0029 - mae: 0.0373 - val_loss: 0.0090 - val_mae: 0.0671\n",
            "Epoch 31/50\n",
            "134/134 [==============================] - 1s 6ms/step - loss: 0.0029 - mae: 0.0375 - val_loss: 0.0090 - val_mae: 0.0671\n",
            "Epoch 32/50\n",
            "134/134 [==============================] - 1s 7ms/step - loss: 0.0029 - mae: 0.0372 - val_loss: 0.0090 - val_mae: 0.0670\n",
            "Epoch 33/50\n",
            "134/134 [==============================] - 1s 6ms/step - loss: 0.0029 - mae: 0.0371 - val_loss: 0.0090 - val_mae: 0.0671\n",
            "Epoch 34/50\n",
            "134/134 [==============================] - 1s 7ms/step - loss: 0.0029 - mae: 0.0370 - val_loss: 0.0090 - val_mae: 0.0672\n",
            "Epoch 35/50\n",
            "134/134 [==============================] - 1s 7ms/step - loss: 0.0029 - mae: 0.0373 - val_loss: 0.0090 - val_mae: 0.0671\n",
            "Epoch 36/50\n",
            "134/134 [==============================] - 1s 6ms/step - loss: 0.0028 - mae: 0.0368 - val_loss: 0.0090 - val_mae: 0.0672\n",
            "Epoch 37/50\n",
            "134/134 [==============================] - 1s 6ms/step - loss: 0.0028 - mae: 0.0368 - val_loss: 0.0091 - val_mae: 0.0682\n",
            "Epoch 38/50\n",
            "134/134 [==============================] - 1s 6ms/step - loss: 0.0028 - mae: 0.0367 - val_loss: 0.0090 - val_mae: 0.0671\n",
            "Epoch 39/50\n",
            "134/134 [==============================] - 1s 7ms/step - loss: 0.0028 - mae: 0.0365 - val_loss: 0.0090 - val_mae: 0.0670\n",
            "Epoch 40/50\n",
            "134/134 [==============================] - 1s 7ms/step - loss: 0.0028 - mae: 0.0363 - val_loss: 0.0090 - val_mae: 0.0670\n",
            "Epoch 41/50\n",
            "134/134 [==============================] - 1s 7ms/step - loss: 0.0028 - mae: 0.0364 - val_loss: 0.0090 - val_mae: 0.0673\n",
            "Epoch 42/50\n",
            "134/134 [==============================] - 1s 6ms/step - loss: 0.0028 - mae: 0.0364 - val_loss: 0.0090 - val_mae: 0.0672\n",
            "Epoch 43/50\n",
            "134/134 [==============================] - 1s 7ms/step - loss: 0.0028 - mae: 0.0363 - val_loss: 0.0090 - val_mae: 0.0670\n",
            "Epoch 44/50\n",
            "134/134 [==============================] - 1s 7ms/step - loss: 0.0028 - mae: 0.0363 - val_loss: 0.0090 - val_mae: 0.0672\n",
            "Epoch 45/50\n",
            "134/134 [==============================] - 1s 7ms/step - loss: 0.0028 - mae: 0.0362 - val_loss: 0.0090 - val_mae: 0.0672\n",
            "Epoch 46/50\n",
            "134/134 [==============================] - 1s 7ms/step - loss: 0.0028 - mae: 0.0362 - val_loss: 0.0090 - val_mae: 0.0674\n",
            "Epoch 47/50\n",
            "134/134 [==============================] - 1s 7ms/step - loss: 0.0028 - mae: 0.0361 - val_loss: 0.0090 - val_mae: 0.0669\n",
            "Epoch 48/50\n",
            "134/134 [==============================] - 1s 6ms/step - loss: 0.0028 - mae: 0.0360 - val_loss: 0.0090 - val_mae: 0.0671\n",
            "Epoch 49/50\n",
            "134/134 [==============================] - 1s 7ms/step - loss: 0.0028 - mae: 0.0363 - val_loss: 0.0090 - val_mae: 0.0670\n",
            "Epoch 50/50\n",
            "134/134 [==============================] - 1s 7ms/step - loss: 0.0028 - mae: 0.0361 - val_loss: 0.0090 - val_mae: 0.0669\n"
          ],
          "name": "stdout"
        }
      ]
    },
    {
      "cell_type": "code",
      "metadata": {
        "colab": {
          "base_uri": "https://localhost:8080/",
          "height": 429
        },
        "id": "TGsuRWLlIycZ",
        "outputId": "bf820402-97f4-46be-8cef-169a625b6004"
      },
      "source": [
        "history_dict = history.history\n",
        "loss_values = history_dict['loss']\n",
        "val_loss_values = history_dict['val_loss']\n",
        "accuracy = history_dict['mae']\n",
        "val_accuracy = history_dict['val_mae']\n",
        " \n",
        "epochs = range(1, len(loss_values) + 1)\n",
        "fig, ax = plt.subplots(1, 2, figsize=(14, 6))\n",
        "\n",
        "ax[0].plot(epochs, accuracy, 'bo', label='Training mae')\n",
        "ax[0].plot(epochs, val_accuracy, 'b', label='Validation mae')\n",
        "ax[0].set_title('Training &amp; Validation mae', fontsize=16)\n",
        "ax[0].set_xlabel('Epochs', fontsize=16)\n",
        "ax[0].set_ylabel('mae', fontsize=16)\n",
        "ax[0].legend()\n",
        " \n",
        "ax[1].plot(epochs, loss_values, 'bo', label='Training loss') \n",
        "ax[1].plot(epochs, val_loss_values, 'b', label='Validation loss')\n",
        "ax[1].set_title('Training &amp; Validation Loss', fontsize=16)\n",
        "ax[1].set_xlabel('Epochs', fontsize=16)\n",
        "ax[1].set_ylabel('Loss', fontsize=16)\n",
        "ax[1].legend()"
      ],
      "execution_count": null,
      "outputs": [
        {
          "output_type": "execute_result",
          "data": {
            "text/plain": [
              "<matplotlib.legend.Legend at 0x7f0bab6846d8>"
            ]
          },
          "metadata": {
            "tags": []
          },
          "execution_count": 43
        },
        {
          "output_type": "display_data",
          "data": {
            "image/png": "[encoded data removed]",
            "text/plain": [
              "<Figure size 1008x432 with 2 Axes>"
            ]
          },
          "metadata": {
            "tags": [],
            "needs_background": "light"
          }
        }
      ]
    },
    {
      "cell_type": "markdown",
      "metadata": {
        "id": "xPCFucJEJbk1"
      },
      "source": [
        "Typiquement des courbes de non apprentissage ! "
      ]
    },
    {
      "cell_type": "code",
      "metadata": {
        "id": "SGHyAKVl-Z7u"
      },
      "source": [
        "train_predict = model.predict(X_train)\n",
        "test_predict = model.predict(X_test)\n",
        "\n"
      ],
      "execution_count": null,
      "outputs": []
    },
    {
      "cell_type": "code",
      "metadata": {
        "colab": {
          "base_uri": "https://localhost:8080/"
        },
        "id": "xkNfC1k8VJbz",
        "outputId": "dd470b0d-9dd1-4270-b41f-1a3a43db97b8"
      },
      "source": [
        ""
      ],
      "execution_count": null,
      "outputs": [
        {
          "output_type": "execute_result",
          "data": {
            "text/plain": [
              "(2, 30, 1)"
            ]
          },
          "metadata": {
            "tags": []
          },
          "execution_count": 70
        }
      ]
    },
    {
      "cell_type": "code",
      "metadata": {
        "colab": {
          "base_uri": "https://localhost:8080/"
        },
        "id": "k_e9Wl-PvMAd",
        "outputId": "ed8b1f49-59d3-44ee-acac-2bc4b4336da5"
      },
      "source": [
        "print(train_predict.shape)\n",
        "print(train_predict[0])\n",
        "Y_test[time_step]"
      ],
      "execution_count": null,
      "outputs": [
        {
          "output_type": "stream",
          "text": [
            "(1070, 30, 1)\n",
            "[[0.46701765]\n",
            " [0.46662045]\n",
            " [0.46643603]\n",
            " [0.46620733]\n",
            " [0.4661481 ]\n",
            " [0.4660276 ]\n",
            " [0.466373  ]\n",
            " [0.46668696]\n",
            " [0.46711323]\n",
            " [0.46735954]\n",
            " [0.46729296]\n",
            " [0.4669153 ]\n",
            " [0.4665267 ]\n",
            " [0.46623987]\n",
            " [0.46634632]\n",
            " [0.46629593]\n",
            " [0.46651718]\n",
            " [0.46638083]\n",
            " [0.46619612]\n",
            " [0.46569178]\n",
            " [0.46532953]\n",
            " [0.46496102]\n",
            " [0.46510676]\n",
            " [0.46505344]\n",
            " [0.465233  ]\n",
            " [0.46534842]\n",
            " [0.46533954]\n",
            " [0.4653514 ]\n",
            " [0.4650492 ]\n",
            " [0.46476895]]\n"
          ],
          "name": "stdout"
        },
        {
          "output_type": "execute_result",
          "data": {
            "text/plain": [
              "array([0.52739978])"
            ]
          },
          "metadata": {
            "tags": []
          },
          "execution_count": 45
        }
      ]
    },
    {
      "cell_type": "code",
      "metadata": {
        "colab": {
          "base_uri": "https://localhost:8080/",
          "height": 592
        },
        "id": "P4R1i7VQ9bxH",
        "outputId": "a3b57e0e-48f4-4deb-a231-d99b6f7bc0ac"
      },
      "source": [
        "plt.figure(figsize=(15,10))\n",
        "\n",
        "plt.hist(Y_train.reshape(-1), bins = 100, label = \"true\", alpha =0.3)\n",
        "plt.hist(train_predict.reshape(-1), bins = 100, label = \"model\", alpha=0.3)\n",
        "plt.legend()\n",
        "plt.show()"
      ],
      "execution_count": null,
      "outputs": [
        {
          "output_type": "display_data",
          "data": {
            "image/png": "[encoded data removed]",
            "text/plain": [
              "<Figure size 1080x720 with 1 Axes>"
            ]
          },
          "metadata": {
            "tags": [],
            "needs_background": "light"
          }
        }
      ]
    },
    {
      "cell_type": "code",
      "metadata": {
        "colab": {
          "base_uri": "https://localhost:8080/",
          "height": 491
        },
        "id": "R6cnwy_l-48p",
        "outputId": "49fe45fe-abfd-412d-c954-1aee82453c9f"
      },
      "source": [
        "for i in range(5):\n",
        "  plt.figure()\n",
        "  plt.hist(Y_test[:,i], bins =100)\n",
        "  plt.show()"
      ],
      "execution_count": null,
      "outputs": [
        {
          "output_type": "display_data",
          "data": {
            "image/png": "[encoded data removed]",
            "text/plain": [
              "<Figure size 432x288 with 1 Axes>"
            ]
          },
          "metadata": {
            "tags": [],
            "needs_background": "light"
          }
        },
        {
          "output_type": "error",
          "ename": "IndexError",
          "evalue": "ignored",
          "traceback": [
            "\u001b[0;31m---------------------------------------------------------------------------\u001b[0m",
            "\u001b[0;31mIndexError\u001b[0m                                Traceback (most recent call last)",
            "\u001b[0;32m<ipython-input-47-17d3d3f55879>\u001b[0m in \u001b[0;36m<module>\u001b[0;34m()\u001b[0m\n\u001b[1;32m      1\u001b[0m \u001b[0;32mfor\u001b[0m \u001b[0mi\u001b[0m \u001b[0;32min\u001b[0m \u001b[0mrange\u001b[0m\u001b[0;34m(\u001b[0m\u001b[0;36m5\u001b[0m\u001b[0;34m)\u001b[0m\u001b[0;34m:\u001b[0m\u001b[0;34m\u001b[0m\u001b[0;34m\u001b[0m\u001b[0m\n\u001b[1;32m      2\u001b[0m   \u001b[0mplt\u001b[0m\u001b[0;34m.\u001b[0m\u001b[0mfigure\u001b[0m\u001b[0;34m(\u001b[0m\u001b[0;34m)\u001b[0m\u001b[0;34m\u001b[0m\u001b[0;34m\u001b[0m\u001b[0m\n\u001b[0;32m----> 3\u001b[0;31m   \u001b[0mplt\u001b[0m\u001b[0;34m.\u001b[0m\u001b[0mhist\u001b[0m\u001b[0;34m(\u001b[0m\u001b[0mY_test\u001b[0m\u001b[0;34m[\u001b[0m\u001b[0;34m:\u001b[0m\u001b[0;34m,\u001b[0m\u001b[0mi\u001b[0m\u001b[0;34m]\u001b[0m\u001b[0;34m,\u001b[0m \u001b[0mbins\u001b[0m \u001b[0;34m=\u001b[0m\u001b[0;36m100\u001b[0m\u001b[0;34m)\u001b[0m\u001b[0;34m\u001b[0m\u001b[0;34m\u001b[0m\u001b[0m\n\u001b[0m\u001b[1;32m      4\u001b[0m   \u001b[0mplt\u001b[0m\u001b[0;34m.\u001b[0m\u001b[0mshow\u001b[0m\u001b[0;34m(\u001b[0m\u001b[0;34m)\u001b[0m\u001b[0;34m\u001b[0m\u001b[0;34m\u001b[0m\u001b[0m\n",
            "\u001b[0;31mIndexError\u001b[0m: index 1 is out of bounds for axis 1 with size 1"
          ]
        },
        {
          "output_type": "display_data",
          "data": {
            "text/plain": [
              "<Figure size 432x288 with 0 Axes>"
            ]
          },
          "metadata": {
            "tags": []
          }
        }
      ]
    },
    {
      "cell_type": "code",
      "metadata": {
        "id": "aV3GlS3C988t"
      },
      "source": [
        "X_test.shape"
      ],
      "execution_count": null,
      "outputs": []
    },
    {
      "cell_type": "code",
      "metadata": {
        "id": "dSs5NhZH9kYh"
      },
      "source": [
        "print(test_predict)\n",
        "print(Y_train)"
      ],
      "execution_count": null,
      "outputs": []
    },
    {
      "cell_type": "code",
      "metadata": {
        "id": "G1mLKHEU-Z7u"
      },
      "source": [
        "print(train_predict.shape)\n",
        "print(test_predict.shape)"
      ],
      "execution_count": null,
      "outputs": []
    },
    {
      "cell_type": "code",
      "metadata": {
        "id": "k-vpK96mRLPA"
      },
      "source": [
        ""
      ],
      "execution_count": null,
      "outputs": []
    },
    {
      "cell_type": "code",
      "metadata": {
        "id": "tAueggKP-Z7u"
      },
      "source": [
        "import math\n",
        "from sklearn.metrics import mean_squared_error\n",
        "# print(mean_squared_error(Y_train,train_predict))\n",
        "# print(mean_squared_error(Y_test,test_predict))\n",
        "\n",
        "print(mean_squared_error(Y_test,np.zeros(len(Y_test))))"
      ],
      "execution_count": null,
      "outputs": []
    },
    {
      "cell_type": "code",
      "metadata": {
        "scrolled": false,
        "id": "7MqAty7m-Z7u"
      },
      "source": [
        "#plt.plot(array_output[200:817])\n",
        "plt.figure(figsize=(15,10))\n",
        "plt.plot(Y_train)\n",
        "plt.plot(train_predict)\n",
        "#plt.gcf().set_size_inches(15, 10)\n",
        "\n",
        "plt.show()"
      ],
      "execution_count": null,
      "outputs": []
    },
    {
      "cell_type": "code",
      "metadata": {
        "id": "zaHEBXhI-Z7u"
      },
      "source": [
        "#plt.plot(array_output[917:])\n",
        "plt.plot(Y_test)\n",
        "\n",
        "plt.plot(test_predict)\n",
        "plt.gcf().set_size_inches(15, 10)\n",
        "\n",
        "plt.show()"
      ],
      "execution_count": null,
      "outputs": []
    },
    {
      "cell_type": "code",
      "metadata": {
        "id": "49iZhiBL-Z7w"
      },
      "source": [
        "print(Y_train.mean())\n",
        "print(Y_test.mean())\n",
        "print(Y_train.std())\n",
        "print(Y_test.std())"
      ],
      "execution_count": null,
      "outputs": []
    },
    {
      "cell_type": "code",
      "metadata": {
        "id": "7788W5-6-Z7w"
      },
      "source": [
        ""
      ],
      "execution_count": null,
      "outputs": []
    }
  ]
}