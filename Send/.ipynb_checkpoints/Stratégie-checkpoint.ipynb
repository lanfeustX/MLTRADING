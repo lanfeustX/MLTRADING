{
 "cells": [
  {
   "cell_type": "code",
   "execution_count": 86,
   "metadata": {},
   "outputs": [],
   "source": [
    "import numpy as np\n",
    "import pandas_datareader as web\n",
    "import pandas as pd"
   ]
  },
  {
   "cell_type": "code",
   "execution_count": 87,
   "metadata": {},
   "outputs": [],
   "source": [
    "open_reel = np.load('C:\\\\Users\\\\User\\\\Desktop\\\\Predictions\\\\open_reel.npy')\n",
    "close_reel = np.load('C:\\\\Users\\\\User\\\\Desktop\\\\Predictions\\\\close_reel.npy')\n",
    "open_prediction = np.load('C:\\\\Users\\\\User\\\\Desktop\\\\Predictions\\\\open_prediction.npy')\n",
    "close_prediction = np.load('C:\\\\Users\\\\User\\\\Desktop\\\\Predictions\\\\close_prediction.npy')"
   ]
  },
  {
   "cell_type": "code",
   "execution_count": 113,
   "metadata": {},
   "outputs": [
    {
     "data": {
      "text/plain": [
       "count    239.000000\n",
       "mean       1.420084\n",
       "std        1.258967\n",
       "min        0.009995\n",
       "25%        0.508747\n",
       "50%        1.099998\n",
       "75%        1.958748\n",
       "max        6.870003\n",
       "dtype: float64"
      ]
     },
     "execution_count": 113,
     "metadata": {},
     "output_type": "execute_result"
    }
   ],
   "source": [
    "start = pd.to_datetime('2020-01-01')\n",
    "end = pd.to_datetime('today')\n",
    "df_stock = web.DataReader('AAPL', data_source='yahoo', start=start, end=end)\n",
    "df = abs(df_stock['Close'] - df_stock ['Open'] )"
   ]
  },
  {
   "cell_type": "code",
   "execution_count": 114,
   "metadata": {},
   "outputs": [],
   "source": [
    "difference = close_prediction - open_prediction"
   ]
  },
  {
   "cell_type": "code",
   "execution_count": 151,
   "metadata": {},
   "outputs": [
    {
     "name": "stdout",
     "output_type": "stream",
     "text": [
      "portefeuille final : 1040.0000762939455\n",
      "gain en pourcent : 4.0000076293945535\n"
     ]
    }
   ],
   "source": [
    "#On achète ou vend à découvert 10 actions quand notre prédiction de la différence est à 3 écart-types de la moyenne des différences.\n",
    "\n",
    "initial = 1000\n",
    "portefeuille = 1000\n",
    "epsilon = df.mean() + 3*df.std()\n",
    "for k in range(len(difference)):\n",
    "        if difference[k] > epsilon:\n",
    "            portefeuille-=10*open_reel[k]\n",
    "            portefeuille+=10*close_reel[k]\n",
    "        if difference[k] < -epsilon:\n",
    "            portefeuille+=10*open_reel[k]\n",
    "            portefeuille-=10*close_reel[k]\n",
    "\n",
    "print('portefeuille final :', float(portefeuille))\n",
    "print('gain en pourcent :', float((portefeuille - initial) / initial)*100)"
   ]
  }
 ],
 "metadata": {
  "kernelspec": {
   "display_name": "Python 3",
   "language": "python",
   "name": "python3"
  },
  "language_info": {
   "codemirror_mode": {
    "name": "ipython",
    "version": 3
   },
   "file_extension": ".py",
   "mimetype": "text/x-python",
   "name": "python",
   "nbconvert_exporter": "python",
   "pygments_lexer": "ipython3",
   "version": "3.7.3"
  }
 },
 "nbformat": 4,
 "nbformat_minor": 4
}
