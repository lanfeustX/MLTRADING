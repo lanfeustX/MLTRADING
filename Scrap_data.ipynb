{
 "cells": [
  {
   "cell_type": "markdown",
   "metadata": {},
   "source": [
    "# Scrapping"
   ]
  },
  {
   "cell_type": "code",
   "execution_count": 13,
   "metadata": {},
   "outputs": [],
   "source": [
    "import bs4\n",
    "import requests\n",
    "from bs4 import BeautifulSoup\n",
    "import urllib.request\n",
    "import bs4\n",
    "import pandas as pd"
   ]
  },
  {
   "cell_type": "code",
   "execution_count": 18,
   "metadata": {},
   "outputs": [],
   "source": [
    "\n",
    "{\"voiture\": \"véhicule à quatre roues\", \"vélo\": \"véhicule à deux roues\"}\n",
    "url = \"https://www.boursorama.com/cours/\"\n",
    "list_stocks = [\"FB\", \"AAPL\", \"AMZN\", \"GPRO\", \"KO\",\"MCD\",\"NFLX\"]\n",
    "\n",
    "def parsePrice(list_stocks, url, nb_iteration_max =1000):\n",
    "    \n",
    "    dico ={\"FB\" : [], \"AAPL\" : [], \"AMZN\" : [], \"GPRO\" : [], \"KO\" : [],\"MCD\" : [],\"NFLX\" : []}\n",
    "    i=0\n",
    "    while True and i<= len(list_stocks)*nb_iteration_max : \n",
    "        for s in list_stocks :\n",
    "            link = url+s+\"/\"\n",
    "            page = urllib.request.urlopen(link)\n",
    "            content = page.read().decode('utf-8')\n",
    "            soup = bs4.BeautifulSoup(content, \"html.parser\")\n",
    "            price = soup.find(\"span\", \"c-instrument c-instrument--last\").decode_contents(formatter=\"html\")\n",
    "            dico[s].append(price)\n",
    "            print(\"current price of \"+ s+ \" is : \"+ price)\n",
    "            i+=1\n",
    "    df = pd.DataFrame(dico)\n",
    "    \n",
    "    return df\n"
   ]
  },
  {
   "cell_type": "code",
   "execution_count": 19,
   "metadata": {},
   "outputs": [
    {
     "name": "stdout",
     "output_type": "stream",
     "text": [
      "current price of FB is : 277.12\n",
      "current price of AAPL is : 123.24\n",
      "current price of AMZN is : 3 101.49\n",
      "current price of GPRO is : 8.65\n",
      "current price of KO is : 53.05\n",
      "current price of MCD is : 208.13\n",
      "current price of NFLX is : 501.09\n",
      "current price of FB is : 277.12\n",
      "current price of AAPL is : 123.24\n",
      "current price of AMZN is : 3 101.49\n",
      "current price of GPRO is : 8.65\n",
      "current price of KO is : 53.05\n",
      "current price of MCD is : 208.13\n",
      "current price of NFLX is : 501.09\n"
     ]
    }
   ],
   "source": [
    "df = parsePrice(list_stocks, url,10)"
   ]
  },
  {
   "cell_type": "markdown",
   "metadata": {},
   "source": [
    "# API"
   ]
  },
  {
   "cell_type": "code",
   "execution_count": 31,
   "metadata": {},
   "outputs": [],
   "source": [
    "import alpha_vantage\n",
    "from alpha_vantage.timeseries import TimeSeries\n",
    "import json\n",
    "\n",
    "\n",
    "def save_dataset(symbol):\n",
    "    #api_key1 = \"XNZ8ETR377XWBBNZ\" #gmail\n",
    "    #api_key2 = \"SRHMKQTD8VRRDM6G\"   #sorbonne \n",
    "    api_key5 = \"H6NZR8D6IEPFIBDM\" #hotmail\n",
    "    #api_key3 = \"123MJ7OCUGMAOWGO\" #ensae nb\n",
    "    #api_key4 = \"8HING7T582D8TDSF\"\n",
    "    ts = TimeSeries(key=api_key5, output_format='pandas')\n",
    "    #ts.get_intraday(symbol= symbol ,interval='1min', outputsize='full')\n",
    "    ts.get_daily(symbol)\n",
    "    data, meta_data = ts.get_daily(symbol, outputsize='full')\n",
    "\n",
    "    data.to_csv(f'./{symbol}_daily.csv')\n"
   ]
  },
  {
   "cell_type": "code",
   "execution_count": 32,
   "metadata": {},
   "outputs": [],
   "source": [
    "stock_symbole = ['AAPL', 'FB']\n",
    "for symbole in stock_symbole :\n",
    "    save_dataset(symbole)\n",
    "\n",
    "df_aapl = pd.read_csv(\"AAPL_daily.csv\")\n",
    "df_fb = pd.read_csv(\"FB_daily.csv\")"
   ]
  },
  {
   "cell_type": "code",
   "execution_count": 30,
   "metadata": {},
   "outputs": [
    {
     "data": {
      "text/html": [
       "<div>\n",
       "<style scoped>\n",
       "    .dataframe tbody tr th:only-of-type {\n",
       "        vertical-align: middle;\n",
       "    }\n",
       "\n",
       "    .dataframe tbody tr th {\n",
       "        vertical-align: top;\n",
       "    }\n",
       "\n",
       "    .dataframe thead th {\n",
       "        text-align: right;\n",
       "    }\n",
       "</style>\n",
       "<table border=\"1\" class=\"dataframe\">\n",
       "  <thead>\n",
       "    <tr style=\"text-align: right;\">\n",
       "      <th></th>\n",
       "      <th>date</th>\n",
       "      <th>1. open</th>\n",
       "      <th>2. high</th>\n",
       "      <th>3. low</th>\n",
       "      <th>4. close</th>\n",
       "      <th>5. volume</th>\n",
       "    </tr>\n",
       "  </thead>\n",
       "  <tbody>\n",
       "    <tr>\n",
       "      <th>0</th>\n",
       "      <td>2020-12-10</td>\n",
       "      <td>120.50</td>\n",
       "      <td>123.8700</td>\n",
       "      <td>120.15</td>\n",
       "      <td>123.24</td>\n",
       "      <td>80554376.0</td>\n",
       "    </tr>\n",
       "    <tr>\n",
       "      <th>1</th>\n",
       "      <td>2020-12-09</td>\n",
       "      <td>124.53</td>\n",
       "      <td>125.9500</td>\n",
       "      <td>121.00</td>\n",
       "      <td>121.78</td>\n",
       "      <td>115089193.0</td>\n",
       "    </tr>\n",
       "    <tr>\n",
       "      <th>2</th>\n",
       "      <td>2020-12-08</td>\n",
       "      <td>124.37</td>\n",
       "      <td>124.9800</td>\n",
       "      <td>123.09</td>\n",
       "      <td>124.38</td>\n",
       "      <td>82225512.0</td>\n",
       "    </tr>\n",
       "    <tr>\n",
       "      <th>3</th>\n",
       "      <td>2020-12-07</td>\n",
       "      <td>122.31</td>\n",
       "      <td>124.5700</td>\n",
       "      <td>122.25</td>\n",
       "      <td>123.75</td>\n",
       "      <td>86711990.0</td>\n",
       "    </tr>\n",
       "    <tr>\n",
       "      <th>4</th>\n",
       "      <td>2020-12-04</td>\n",
       "      <td>122.60</td>\n",
       "      <td>122.8608</td>\n",
       "      <td>121.52</td>\n",
       "      <td>122.25</td>\n",
       "      <td>78260421.0</td>\n",
       "    </tr>\n",
       "  </tbody>\n",
       "</table>\n",
       "</div>"
      ],
      "text/plain": [
       "         date  1. open   2. high  3. low  4. close    5. volume\n",
       "0  2020-12-10   120.50  123.8700  120.15    123.24   80554376.0\n",
       "1  2020-12-09   124.53  125.9500  121.00    121.78  115089193.0\n",
       "2  2020-12-08   124.37  124.9800  123.09    124.38   82225512.0\n",
       "3  2020-12-07   122.31  124.5700  122.25    123.75   86711990.0\n",
       "4  2020-12-04   122.60  122.8608  121.52    122.25   78260421.0"
      ]
     },
     "execution_count": 30,
     "metadata": {},
     "output_type": "execute_result"
    }
   ],
   "source": [
    "df_aapl.head()"
   ]
  },
  {
   "cell_type": "code",
   "execution_count": 33,
   "metadata": {},
   "outputs": [
    {
     "data": {
      "text/html": [
       "<div>\n",
       "<style scoped>\n",
       "    .dataframe tbody tr th:only-of-type {\n",
       "        vertical-align: middle;\n",
       "    }\n",
       "\n",
       "    .dataframe tbody tr th {\n",
       "        vertical-align: top;\n",
       "    }\n",
       "\n",
       "    .dataframe thead th {\n",
       "        text-align: right;\n",
       "    }\n",
       "</style>\n",
       "<table border=\"1\" class=\"dataframe\">\n",
       "  <thead>\n",
       "    <tr style=\"text-align: right;\">\n",
       "      <th></th>\n",
       "      <th>date</th>\n",
       "      <th>1. open</th>\n",
       "      <th>2. high</th>\n",
       "      <th>3. low</th>\n",
       "      <th>4. close</th>\n",
       "      <th>5. volume</th>\n",
       "    </tr>\n",
       "  </thead>\n",
       "  <tbody>\n",
       "    <tr>\n",
       "      <th>0</th>\n",
       "      <td>2020-12-10</td>\n",
       "      <td>275.535</td>\n",
       "      <td>278.7300</td>\n",
       "      <td>271.86</td>\n",
       "      <td>277.12</td>\n",
       "      <td>19968316.0</td>\n",
       "    </tr>\n",
       "    <tr>\n",
       "      <th>1</th>\n",
       "      <td>2020-12-09</td>\n",
       "      <td>283.660</td>\n",
       "      <td>287.6300</td>\n",
       "      <td>271.75</td>\n",
       "      <td>277.92</td>\n",
       "      <td>25189707.0</td>\n",
       "    </tr>\n",
       "    <tr>\n",
       "      <th>2</th>\n",
       "      <td>2020-12-08</td>\n",
       "      <td>286.010</td>\n",
       "      <td>286.4272</td>\n",
       "      <td>281.55</td>\n",
       "      <td>283.40</td>\n",
       "      <td>10747650.0</td>\n",
       "    </tr>\n",
       "    <tr>\n",
       "      <th>3</th>\n",
       "      <td>2020-12-07</td>\n",
       "      <td>279.190</td>\n",
       "      <td>288.4900</td>\n",
       "      <td>278.20</td>\n",
       "      <td>285.58</td>\n",
       "      <td>13007665.0</td>\n",
       "    </tr>\n",
       "    <tr>\n",
       "      <th>4</th>\n",
       "      <td>2020-12-04</td>\n",
       "      <td>280.300</td>\n",
       "      <td>283.4600</td>\n",
       "      <td>279.30</td>\n",
       "      <td>279.70</td>\n",
       "      <td>10880299.0</td>\n",
       "    </tr>\n",
       "  </tbody>\n",
       "</table>\n",
       "</div>"
      ],
      "text/plain": [
       "         date  1. open   2. high  3. low  4. close   5. volume\n",
       "0  2020-12-10  275.535  278.7300  271.86    277.12  19968316.0\n",
       "1  2020-12-09  283.660  287.6300  271.75    277.92  25189707.0\n",
       "2  2020-12-08  286.010  286.4272  281.55    283.40  10747650.0\n",
       "3  2020-12-07  279.190  288.4900  278.20    285.58  13007665.0\n",
       "4  2020-12-04  280.300  283.4600  279.30    279.70  10880299.0"
      ]
     },
     "execution_count": 33,
     "metadata": {},
     "output_type": "execute_result"
    }
   ],
   "source": [
    "df_fb.head()"
   ]
  },
  {
   "cell_type": "markdown",
   "metadata": {},
   "source": [
    "# web data reader"
   ]
  },
  {
   "cell_type": "markdown",
   "metadata": {},
   "source": [
    "Pas besoin d'API key mais nombre de données inferieur"
   ]
  },
  {
   "cell_type": "code",
   "execution_count": 34,
   "metadata": {},
   "outputs": [],
   "source": [
    "import pandas_datareader as web"
   ]
  },
  {
   "cell_type": "code",
   "execution_count": 36,
   "metadata": {},
   "outputs": [],
   "source": [
    "#Scraping de données\n",
    "start = pd.to_datetime('2012-01-01')\n",
    "end = pd.to_datetime('today')\n",
    "\n",
    "df_stock_aapl = web.DataReader('AAPL', data_source='yahoo', start=start, end=end)\n",
    "df_vix = web.DataReader('^VIX', data_source='yahoo', start=start, end=end)\n"
   ]
  },
  {
   "cell_type": "code",
   "execution_count": 39,
   "metadata": {},
   "outputs": [
    {
     "data": {
      "text/plain": [
       "2251"
      ]
     },
     "execution_count": 39,
     "metadata": {},
     "output_type": "execute_result"
    }
   ],
   "source": [
    "len(df_stock_aapl)"
   ]
  },
  {
   "cell_type": "code",
   "execution_count": 40,
   "metadata": {},
   "outputs": [
    {
     "data": {
      "text/plain": [
       "5313"
      ]
     },
     "execution_count": 40,
     "metadata": {},
     "output_type": "execute_result"
    }
   ],
   "source": [
    "len(df_aapl)"
   ]
  }
 ],
 "metadata": {
  "kernelspec": {
   "display_name": "Python 3",
   "language": "python",
   "name": "python3"
  },
  "language_info": {
   "codemirror_mode": {
    "name": "ipython",
    "version": 3
   },
   "file_extension": ".py",
   "mimetype": "text/x-python",
   "name": "python",
   "nbconvert_exporter": "python",
   "pygments_lexer": "ipython3",
   "version": "3.7.3"
  }
 },
 "nbformat": 4,
 "nbformat_minor": 4
}
